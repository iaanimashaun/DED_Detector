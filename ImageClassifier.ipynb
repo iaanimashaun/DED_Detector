{
  "nbformat": 4,
  "nbformat_minor": 0,
  "metadata": {
    "accelerator": "GPU",
    "colab": {
      "name": "ImageClassifier.ipynb",
      "provenance": [],
      "include_colab_link": true
    },
    "kernelspec": {
      "display_name": "Python 3",
      "name": "python3"
    }
  },
  "cells": [
    {
      "cell_type": "markdown",
      "metadata": {
        "id": "view-in-github",
        "colab_type": "text"
      },
      "source": [
        "<a href=\"https://colab.research.google.com/github/iaanimashaun/DED_Detector/blob/main/ImageClassifier.ipynb\" target=\"_parent\"><img src=\"https://colab.research.google.com/assets/colab-badge.svg\" alt=\"Open In Colab\"/></a>"
      ]
    },
    {
      "cell_type": "code",
      "metadata": {
        "id": "KkUoB7d-BVaZ",
        "outputId": "f9ffb6d8-61ba-4cd8-8ac0-6c14c0afba0b",
        "colab": {
          "base_uri": "https://localhost:8080/"
        }
      },
      "source": [
        "!nvidia-smi"
      ],
      "execution_count": 2,
      "outputs": [
        {
          "output_type": "stream",
          "text": [
            "Tue Apr 27 15:50:46 2021       \n",
            "+-----------------------------------------------------------------------------+\n",
            "| NVIDIA-SMI 465.19.01    Driver Version: 460.32.03    CUDA Version: 11.2     |\n",
            "|-------------------------------+----------------------+----------------------+\n",
            "| GPU  Name        Persistence-M| Bus-Id        Disp.A | Volatile Uncorr. ECC |\n",
            "| Fan  Temp  Perf  Pwr:Usage/Cap|         Memory-Usage | GPU-Util  Compute M. |\n",
            "|                               |                      |               MIG M. |\n",
            "|===============================+======================+======================|\n",
            "|   0  Tesla T4            Off  | 00000000:00:04.0 Off |                    0 |\n",
            "| N/A   54C    P8     9W /  70W |      0MiB / 15109MiB |      0%      Default |\n",
            "|                               |                      |                  N/A |\n",
            "+-------------------------------+----------------------+----------------------+\n",
            "                                                                               \n",
            "+-----------------------------------------------------------------------------+\n",
            "| Processes:                                                                  |\n",
            "|  GPU   GI   CI        PID   Type   Process name                  GPU Memory |\n",
            "|        ID   ID                                                   Usage      |\n",
            "|=============================================================================|\n",
            "|  No running processes found                                                 |\n",
            "+-----------------------------------------------------------------------------+\n"
          ],
          "name": "stdout"
        }
      ]
    },
    {
      "cell_type": "code",
      "metadata": {
        "colab": {
          "base_uri": "https://localhost:8080/"
        },
        "id": "pWriUtofKUBJ",
        "outputId": "45d8d92f-7068-4831-c520-d9e4d0598b82"
      },
      "source": [
        "\n",
        "!pip install -q efficientnet"
      ],
      "execution_count": 3,
      "outputs": [
        {
          "output_type": "stream",
          "text": [
            "\u001b[?25l\r\u001b[K     |██████▌                         | 10kB 32.8MB/s eta 0:00:01\r\u001b[K     |█████████████                   | 20kB 13.9MB/s eta 0:00:01\r\u001b[K     |███████████████████▍            | 30kB 12.9MB/s eta 0:00:01\r\u001b[K     |█████████████████████████▉      | 40kB 12.8MB/s eta 0:00:01\r\u001b[K     |████████████████████████████████| 51kB 4.5MB/s \n",
            "\u001b[?25h"
          ],
          "name": "stdout"
        }
      ]
    },
    {
      "cell_type": "code",
      "metadata": {
        "id": "PLJ92xIHgvX7"
      },
      "source": [
        "import pandas as pd \n",
        "import numpy as np\n",
        "import matplotlib.pyplot as plt \n",
        "from tensorflow import keras\n",
        "from tensorflow.keras import layers\n",
        "#from kerastuner.tuners import RandomSearch\n",
        "from sklearn.model_selection import train_test_split\n",
        "from keras.callbacks import ModelCheckpoint, EarlyStopping\n",
        "from keras.applications.vgg16 import VGG16, preprocess_input\n",
        "from tensorflow.keras.models import Model\n",
        "import efficientnet.tfkeras as efn\n",
        "import tensorflow as tf\n",
        "from sklearn.metrics import classification_report, confusion_matrix\n",
        "from tensorflow.keras.layers import Dense, GlobalAveragePooling2D, Dropout, Input, BatchNormalization\n",
        "from tensorflow.keras.applications.resnet50 import ResNet50, preprocess_input\n"
      ],
      "execution_count": 4,
      "outputs": []
    },
    {
      "cell_type": "code",
      "metadata": {
        "id": "UrG5epEkg-Ne"
      },
      "source": [
        "import os\n",
        "from tensorflow.keras.backend import clear_session\n",
        "from tensorflow.keras.datasets import mnist\n",
        "from tensorflow.keras.layers import Conv2D\n",
        "from tensorflow.keras.layers import Dense\n",
        "from tensorflow.keras.layers import Flatten, MaxPooling2D\n",
        "from tensorflow.keras.models import Sequential\n",
        "from tensorflow.keras.optimizers import RMSprop\n",
        "from tensorflow.keras.preprocessing.image import ImageDataGenerator\n",
        "\n",
        "\n",
        "#import optuna"
      ],
      "execution_count": 5,
      "outputs": []
    },
    {
      "cell_type": "code",
      "metadata": {
        "id": "CL7Nr0vWie8k"
      },
      "source": [
        ""
      ],
      "execution_count": null,
      "outputs": []
    },
    {
      "cell_type": "code",
      "metadata": {
        "id": "I4J6Fmyjie4N"
      },
      "source": [
        ""
      ],
      "execution_count": null,
      "outputs": []
    },
    {
      "cell_type": "code",
      "metadata": {
        "id": "llPjjx0xiez5"
      },
      "source": [
        ""
      ],
      "execution_count": null,
      "outputs": []
    },
    {
      "cell_type": "code",
      "metadata": {
        "id": "wYRybD46iewx"
      },
      "source": [
        "label_data = pd.read_csv('/content/drive/MyDrive/Projects/DED_Detector/DED_Detector_main/retina/trainLabels.csv')"
      ],
      "execution_count": 6,
      "outputs": []
    },
    {
      "cell_type": "code",
      "metadata": {
        "id": "mgCieqxdieqr",
        "colab": {
          "base_uri": "https://localhost:8080/",
          "height": 203
        },
        "outputId": "ab930e11-2dfd-4a1b-d760-20a9b722a883"
      },
      "source": [
        "label_data.head()"
      ],
      "execution_count": 7,
      "outputs": [
        {
          "output_type": "execute_result",
          "data": {
            "text/html": [
              "<div>\n",
              "<style scoped>\n",
              "    .dataframe tbody tr th:only-of-type {\n",
              "        vertical-align: middle;\n",
              "    }\n",
              "\n",
              "    .dataframe tbody tr th {\n",
              "        vertical-align: top;\n",
              "    }\n",
              "\n",
              "    .dataframe thead th {\n",
              "        text-align: right;\n",
              "    }\n",
              "</style>\n",
              "<table border=\"1\" class=\"dataframe\">\n",
              "  <thead>\n",
              "    <tr style=\"text-align: right;\">\n",
              "      <th></th>\n",
              "      <th>image</th>\n",
              "      <th>level</th>\n",
              "    </tr>\n",
              "  </thead>\n",
              "  <tbody>\n",
              "    <tr>\n",
              "      <th>0</th>\n",
              "      <td>10_left</td>\n",
              "      <td>0</td>\n",
              "    </tr>\n",
              "    <tr>\n",
              "      <th>1</th>\n",
              "      <td>10_right</td>\n",
              "      <td>0</td>\n",
              "    </tr>\n",
              "    <tr>\n",
              "      <th>2</th>\n",
              "      <td>13_left</td>\n",
              "      <td>0</td>\n",
              "    </tr>\n",
              "    <tr>\n",
              "      <th>3</th>\n",
              "      <td>13_right</td>\n",
              "      <td>0</td>\n",
              "    </tr>\n",
              "    <tr>\n",
              "      <th>4</th>\n",
              "      <td>15_left</td>\n",
              "      <td>1</td>\n",
              "    </tr>\n",
              "  </tbody>\n",
              "</table>\n",
              "</div>"
            ],
            "text/plain": [
              "      image  level\n",
              "0   10_left      0\n",
              "1  10_right      0\n",
              "2   13_left      0\n",
              "3  13_right      0\n",
              "4   15_left      1"
            ]
          },
          "metadata": {
            "tags": []
          },
          "execution_count": 7
        }
      ]
    },
    {
      "cell_type": "code",
      "metadata": {
        "id": "BaBdeaoNtTzr"
      },
      "source": [
        "#train_dir = '/content/drive/MyDrive/Hackathon/medhack/gaussian_filtered_images/gaussian_filtered_images/'\n",
        "train_dir = '/content/drive/MyDrive/Projects/DED_Detector/DED_Detector_main/retina/colored_images/colored_images'"
      ],
      "execution_count": 8,
      "outputs": []
    },
    {
      "cell_type": "code",
      "metadata": {
        "id": "paCnVyMa4xKV"
      },
      "source": [
        "labels = []\n",
        "values = []\n",
        "fnames = []\n",
        "image = []\n",
        "for level in os.listdir(train_dir):\n",
        "  level_list = os.listdir(os.path.join(train_dir, level)) \n",
        "  #print(level, len(level_list))\n",
        "  for file in os.listdir(os.path.join(train_dir, level)):\n",
        "    fnames.append(os.path.join(train_dir, level, file))\n",
        "    image.append(file.split('.')[0])\n",
        "\n",
        "  labels.append(level)\n",
        "  values.append(len(level_list))"
      ],
      "execution_count": 10,
      "outputs": []
    },
    {
      "cell_type": "code",
      "metadata": {
        "id": "sJSDwvWmB8O5",
        "outputId": "cfe3ab50-70d2-4aee-f746-9768c677a73b",
        "colab": {
          "base_uri": "https://localhost:8080/"
        }
      },
      "source": [
        "print(dict(zip(labels, values)))"
      ],
      "execution_count": 13,
      "outputs": [
        {
          "output_type": "stream",
          "text": [
            "{'Severe': 873, 'Moderate': 5292, 'No_DR': 25810, 'Proliferate_DR': 708, 'Mild': 2443}\n"
          ],
          "name": "stdout"
        }
      ]
    },
    {
      "cell_type": "code",
      "metadata": {
        "id": "CWIcUIYKCOYo",
        "outputId": "1c8b1101-2e49-401d-e5d7-6ca43a7853cd",
        "colab": {
          "base_uri": "https://localhost:8080/"
        }
      },
      "source": [
        "len(fnames), len(image)"
      ],
      "execution_count": 14,
      "outputs": [
        {
          "output_type": "execute_result",
          "data": {
            "text/plain": [
              "(35126, 35126)"
            ]
          },
          "metadata": {
            "tags": []
          },
          "execution_count": 14
        }
      ]
    },
    {
      "cell_type": "code",
      "metadata": {
        "id": "-TQM8nDs4yvM"
      },
      "source": [
        "fnames_df = pd.DataFrame({'fnames': fnames, 'image': image})"
      ],
      "execution_count": 15,
      "outputs": []
    },
    {
      "cell_type": "code",
      "metadata": {
        "colab": {
          "base_uri": "https://localhost:8080/",
          "height": 203
        },
        "id": "qInh1_3K8Dvo",
        "outputId": "e0a13578-2534-48e8-eea6-d370303f04fe"
      },
      "source": [
        "fnames_df.head()"
      ],
      "execution_count": 16,
      "outputs": [
        {
          "output_type": "execute_result",
          "data": {
            "text/html": [
              "<div>\n",
              "<style scoped>\n",
              "    .dataframe tbody tr th:only-of-type {\n",
              "        vertical-align: middle;\n",
              "    }\n",
              "\n",
              "    .dataframe tbody tr th {\n",
              "        vertical-align: top;\n",
              "    }\n",
              "\n",
              "    .dataframe thead th {\n",
              "        text-align: right;\n",
              "    }\n",
              "</style>\n",
              "<table border=\"1\" class=\"dataframe\">\n",
              "  <thead>\n",
              "    <tr style=\"text-align: right;\">\n",
              "      <th></th>\n",
              "      <th>fnames</th>\n",
              "      <th>image</th>\n",
              "    </tr>\n",
              "  </thead>\n",
              "  <tbody>\n",
              "    <tr>\n",
              "      <th>0</th>\n",
              "      <td>/content/drive/MyDrive/Projects/DED_Detector/D...</td>\n",
              "      <td>10047_left</td>\n",
              "    </tr>\n",
              "    <tr>\n",
              "      <th>1</th>\n",
              "      <td>/content/drive/MyDrive/Projects/DED_Detector/D...</td>\n",
              "      <td>1008_left</td>\n",
              "    </tr>\n",
              "    <tr>\n",
              "      <th>2</th>\n",
              "      <td>/content/drive/MyDrive/Projects/DED_Detector/D...</td>\n",
              "      <td>1002_left</td>\n",
              "    </tr>\n",
              "    <tr>\n",
              "      <th>3</th>\n",
              "      <td>/content/drive/MyDrive/Projects/DED_Detector/D...</td>\n",
              "      <td>1008_right</td>\n",
              "    </tr>\n",
              "    <tr>\n",
              "      <th>4</th>\n",
              "      <td>/content/drive/MyDrive/Projects/DED_Detector/D...</td>\n",
              "      <td>10125_left</td>\n",
              "    </tr>\n",
              "  </tbody>\n",
              "</table>\n",
              "</div>"
            ],
            "text/plain": [
              "                                              fnames       image\n",
              "0  /content/drive/MyDrive/Projects/DED_Detector/D...  10047_left\n",
              "1  /content/drive/MyDrive/Projects/DED_Detector/D...   1008_left\n",
              "2  /content/drive/MyDrive/Projects/DED_Detector/D...   1002_left\n",
              "3  /content/drive/MyDrive/Projects/DED_Detector/D...  1008_right\n",
              "4  /content/drive/MyDrive/Projects/DED_Detector/D...  10125_left"
            ]
          },
          "metadata": {
            "tags": []
          },
          "execution_count": 16
        }
      ]
    },
    {
      "cell_type": "code",
      "metadata": {
        "id": "OSZmx9Ai9FMG"
      },
      "source": [
        "new_df = pd.merge(label_data, fnames_df,  how='left', left_on='image', right_on = 'image')"
      ],
      "execution_count": 17,
      "outputs": []
    },
    {
      "cell_type": "code",
      "metadata": {
        "colab": {
          "base_uri": "https://localhost:8080/",
          "height": 203
        },
        "id": "Kce77Mp99FE0",
        "outputId": "e3fab393-0d4d-4adb-d476-d679f0a3e7e6"
      },
      "source": [
        "new_df.head()"
      ],
      "execution_count": 18,
      "outputs": [
        {
          "output_type": "execute_result",
          "data": {
            "text/html": [
              "<div>\n",
              "<style scoped>\n",
              "    .dataframe tbody tr th:only-of-type {\n",
              "        vertical-align: middle;\n",
              "    }\n",
              "\n",
              "    .dataframe tbody tr th {\n",
              "        vertical-align: top;\n",
              "    }\n",
              "\n",
              "    .dataframe thead th {\n",
              "        text-align: right;\n",
              "    }\n",
              "</style>\n",
              "<table border=\"1\" class=\"dataframe\">\n",
              "  <thead>\n",
              "    <tr style=\"text-align: right;\">\n",
              "      <th></th>\n",
              "      <th>image</th>\n",
              "      <th>level</th>\n",
              "      <th>fnames</th>\n",
              "    </tr>\n",
              "  </thead>\n",
              "  <tbody>\n",
              "    <tr>\n",
              "      <th>0</th>\n",
              "      <td>10_left</td>\n",
              "      <td>0</td>\n",
              "      <td>/content/drive/MyDrive/Projects/DED_Detector/D...</td>\n",
              "    </tr>\n",
              "    <tr>\n",
              "      <th>1</th>\n",
              "      <td>10_right</td>\n",
              "      <td>0</td>\n",
              "      <td>/content/drive/MyDrive/Projects/DED_Detector/D...</td>\n",
              "    </tr>\n",
              "    <tr>\n",
              "      <th>2</th>\n",
              "      <td>13_left</td>\n",
              "      <td>0</td>\n",
              "      <td>/content/drive/MyDrive/Projects/DED_Detector/D...</td>\n",
              "    </tr>\n",
              "    <tr>\n",
              "      <th>3</th>\n",
              "      <td>13_right</td>\n",
              "      <td>0</td>\n",
              "      <td>/content/drive/MyDrive/Projects/DED_Detector/D...</td>\n",
              "    </tr>\n",
              "    <tr>\n",
              "      <th>4</th>\n",
              "      <td>15_left</td>\n",
              "      <td>1</td>\n",
              "      <td>/content/drive/MyDrive/Projects/DED_Detector/D...</td>\n",
              "    </tr>\n",
              "  </tbody>\n",
              "</table>\n",
              "</div>"
            ],
            "text/plain": [
              "      image  level                                             fnames\n",
              "0   10_left      0  /content/drive/MyDrive/Projects/DED_Detector/D...\n",
              "1  10_right      0  /content/drive/MyDrive/Projects/DED_Detector/D...\n",
              "2   13_left      0  /content/drive/MyDrive/Projects/DED_Detector/D...\n",
              "3  13_right      0  /content/drive/MyDrive/Projects/DED_Detector/D...\n",
              "4   15_left      1  /content/drive/MyDrive/Projects/DED_Detector/D..."
            ]
          },
          "metadata": {
            "tags": []
          },
          "execution_count": 18
        }
      ]
    },
    {
      "cell_type": "code",
      "metadata": {
        "colab": {
          "base_uri": "https://localhost:8080/"
        },
        "id": "xXiQNAqh9E90",
        "outputId": "adda69dc-c00e-44d6-bdad-608dec3981f9"
      },
      "source": [
        "new_df.shape"
      ],
      "execution_count": 19,
      "outputs": [
        {
          "output_type": "execute_result",
          "data": {
            "text/plain": [
              "(35126, 3)"
            ]
          },
          "metadata": {
            "tags": []
          },
          "execution_count": 19
        }
      ]
    },
    {
      "cell_type": "code",
      "metadata": {
        "colab": {
          "base_uri": "https://localhost:8080/",
          "height": 35
        },
        "id": "JSBM5jgj9E2c",
        "outputId": "d531f122-f4ca-41e0-f5ef-edb03b975b01"
      },
      "source": [
        "new_df.iloc[0]['fnames']"
      ],
      "execution_count": 49,
      "outputs": [
        {
          "output_type": "execute_result",
          "data": {
            "application/vnd.google.colaboratory.intrinsic+json": {
              "type": "string"
            },
            "text/plain": [
              "'/content/drive/MyDrive/Projects/DED_Detector/DED_Detector_main/retina/colored_images/colored_images/No_DR/10_left.png'"
            ]
          },
          "metadata": {
            "tags": []
          },
          "execution_count": 49
        }
      ]
    },
    {
      "cell_type": "code",
      "metadata": {
        "colab": {
          "base_uri": "https://localhost:8080/"
        },
        "id": "Gcihm8VL9Eu0",
        "outputId": "a2476383-bef9-4542-946e-c223b922b132"
      },
      "source": [
        "values"
      ],
      "execution_count": 51,
      "outputs": [
        {
          "output_type": "execute_result",
          "data": {
            "text/plain": [
              "[873, 5292, 25810, 708, 2443]"
            ]
          },
          "metadata": {
            "tags": []
          },
          "execution_count": 51
        }
      ]
    },
    {
      "cell_type": "code",
      "metadata": {
        "id": "Jg1_hSwgAJAw"
      },
      "source": [
        "#y = new_df['level']\n",
        "train, test = train_test_split(new_df, test_size=0.1, stratify=new_df['level'])"
      ],
      "execution_count": 133,
      "outputs": []
    },
    {
      "cell_type": "code",
      "metadata": {
        "colab": {
          "base_uri": "https://localhost:8080/"
        },
        "id": "NFgYTerUAI25",
        "outputId": "27dad69c-c6bb-47e7-a254-307bf941798d"
      },
      "source": [
        "train.level.value_counts()"
      ],
      "execution_count": 58,
      "outputs": [
        {
          "output_type": "execute_result",
          "data": {
            "text/plain": [
              "0    23229\n",
              "2     4763\n",
              "1     2198\n",
              "3      786\n",
              "4      637\n",
              "Name: level, dtype: int64"
            ]
          },
          "metadata": {
            "tags": []
          },
          "execution_count": 58
        }
      ]
    },
    {
      "cell_type": "code",
      "metadata": {
        "colab": {
          "base_uri": "https://localhost:8080/"
        },
        "id": "Jh5_XwhqAIv5",
        "outputId": "3de09aab-ccf9-44ee-b14d-0ff83727e899"
      },
      "source": [
        "test.level.value_counts()"
      ],
      "execution_count": 59,
      "outputs": [
        {
          "output_type": "execute_result",
          "data": {
            "text/plain": [
              "0    2581\n",
              "2     529\n",
              "1     245\n",
              "3      87\n",
              "4      71\n",
              "Name: level, dtype: int64"
            ]
          },
          "metadata": {
            "tags": []
          },
          "execution_count": 59
        }
      ]
    },
    {
      "cell_type": "code",
      "metadata": {
        "id": "03a3w26IAIZe"
      },
      "source": [
        "train_grouped = train.groupby('level')\n",
        "new_train = train_grouped.apply(lambda x: x.sample(n=637, replace=False))#.head()\n",
        "new_train = new_train.set_index('image').reset_index()"
      ],
      "execution_count": 61,
      "outputs": []
    },
    {
      "cell_type": "code",
      "metadata": {
        "colab": {
          "base_uri": "https://localhost:8080/"
        },
        "id": "WPiSlvP9AIR6",
        "outputId": "a795dafe-6723-4c3b-d8e0-22c9f5e9eeed"
      },
      "source": [
        "new_train['level'].value_counts()#.iloc[0]#['fnames']"
      ],
      "execution_count": 62,
      "outputs": [
        {
          "output_type": "execute_result",
          "data": {
            "text/plain": [
              "3    637\n",
              "1    637\n",
              "4    637\n",
              "2    637\n",
              "0    637\n",
              "Name: level, dtype: int64"
            ]
          },
          "metadata": {
            "tags": []
          },
          "execution_count": 62
        }
      ]
    },
    {
      "cell_type": "code",
      "metadata": {
        "id": "sdkg3yC_jyxm"
      },
      "source": [
        "test_grouped = test.groupby('level')\n",
        "new_test = test_grouped.apply(lambda x: x.sample(n=300, replace=True))"
      ],
      "execution_count": 63,
      "outputs": []
    },
    {
      "cell_type": "code",
      "metadata": {
        "id": "4TA2uZqvjyhy"
      },
      "source": [
        "new_test = new_test.set_index('image').reset_index()#['level'].value_counts()#.iloc[0]#['fnames']"
      ],
      "execution_count": 64,
      "outputs": []
    },
    {
      "cell_type": "code",
      "metadata": {
        "id": "Ccd_ykdIjyM8"
      },
      "source": [
        "new_test.drop_duplicates(subset=['image'], inplace=True)"
      ],
      "execution_count": 65,
      "outputs": []
    },
    {
      "cell_type": "code",
      "metadata": {
        "id": "kIU3b-hP4AzE",
        "outputId": "2959dab9-5515-4241-8935-c4f6785276fd",
        "colab": {
          "base_uri": "https://localhost:8080/"
        }
      },
      "source": [
        "new_test['level'].value_counts()#.iloc[0]#['fnames']"
      ],
      "execution_count": 66,
      "outputs": [
        {
          "output_type": "execute_result",
          "data": {
            "text/plain": [
              "0    366\n",
              "2    282\n",
              "1    198\n",
              "3     87\n",
              "4     70\n",
              "Name: level, dtype: int64"
            ]
          },
          "metadata": {
            "tags": []
          },
          "execution_count": 66
        }
      ]
    },
    {
      "cell_type": "code",
      "metadata": {
        "id": "vW-9-lOR4x5K"
      },
      "source": [
        ""
      ],
      "execution_count": 66,
      "outputs": []
    },
    {
      "cell_type": "code",
      "metadata": {
        "id": "tRs_s5Ur_Cpf"
      },
      "source": [
        "new_train['level_str'] = new_train['level'].map({0: 'Mild', 1:'Modereate', 2:'Severe',3:'Proliferative', 4:'No_DR'})\n",
        "new_test['level_str'] = new_test['level'].map({0: 'Mild', 1:'Modereate', 2:'Severe',3:'Proliferative', 4:'No_DR'})"
      ],
      "execution_count": 67,
      "outputs": []
    },
    {
      "cell_type": "code",
      "metadata": {
        "colab": {
          "base_uri": "https://localhost:8080/",
          "height": 203
        },
        "id": "2RvRo52T_CgA",
        "outputId": "3b65553f-fd2a-4c4e-e904-69c755d6138b"
      },
      "source": [
        "new_test.head()"
      ],
      "execution_count": 68,
      "outputs": [
        {
          "output_type": "execute_result",
          "data": {
            "text/html": [
              "<div>\n",
              "<style scoped>\n",
              "    .dataframe tbody tr th:only-of-type {\n",
              "        vertical-align: middle;\n",
              "    }\n",
              "\n",
              "    .dataframe tbody tr th {\n",
              "        vertical-align: top;\n",
              "    }\n",
              "\n",
              "    .dataframe thead th {\n",
              "        text-align: right;\n",
              "    }\n",
              "</style>\n",
              "<table border=\"1\" class=\"dataframe\">\n",
              "  <thead>\n",
              "    <tr style=\"text-align: right;\">\n",
              "      <th></th>\n",
              "      <th>image</th>\n",
              "      <th>level</th>\n",
              "      <th>fnames</th>\n",
              "      <th>level_str</th>\n",
              "    </tr>\n",
              "  </thead>\n",
              "  <tbody>\n",
              "    <tr>\n",
              "      <th>0</th>\n",
              "      <td>26955_right</td>\n",
              "      <td>0</td>\n",
              "      <td>/content/drive/MyDrive/Projects/DED_Detector/D...</td>\n",
              "      <td>Mild</td>\n",
              "    </tr>\n",
              "    <tr>\n",
              "      <th>1</th>\n",
              "      <td>26939_left</td>\n",
              "      <td>0</td>\n",
              "      <td>/content/drive/MyDrive/Projects/DED_Detector/D...</td>\n",
              "      <td>Mild</td>\n",
              "    </tr>\n",
              "    <tr>\n",
              "      <th>2</th>\n",
              "      <td>24416_left</td>\n",
              "      <td>0</td>\n",
              "      <td>/content/drive/MyDrive/Projects/DED_Detector/D...</td>\n",
              "      <td>Mild</td>\n",
              "    </tr>\n",
              "    <tr>\n",
              "      <th>3</th>\n",
              "      <td>33936_right</td>\n",
              "      <td>0</td>\n",
              "      <td>/content/drive/MyDrive/Projects/DED_Detector/D...</td>\n",
              "      <td>Mild</td>\n",
              "    </tr>\n",
              "    <tr>\n",
              "      <th>4</th>\n",
              "      <td>2243_right</td>\n",
              "      <td>0</td>\n",
              "      <td>/content/drive/MyDrive/Projects/DED_Detector/D...</td>\n",
              "      <td>Mild</td>\n",
              "    </tr>\n",
              "  </tbody>\n",
              "</table>\n",
              "</div>"
            ],
            "text/plain": [
              "         image  ...  level_str\n",
              "0  26955_right  ...       Mild\n",
              "1   26939_left  ...       Mild\n",
              "2   24416_left  ...       Mild\n",
              "3  33936_right  ...       Mild\n",
              "4   2243_right  ...       Mild\n",
              "\n",
              "[5 rows x 4 columns]"
            ]
          },
          "metadata": {
            "tags": []
          },
          "execution_count": 68
        }
      ]
    },
    {
      "cell_type": "code",
      "metadata": {
        "colab": {
          "base_uri": "https://localhost:8080/"
        },
        "id": "ddKvzc57GUfp",
        "outputId": "6fc87af4-13ef-49b0-e978-385e08952e31"
      },
      "source": [
        "new_test.level_str.value_counts()"
      ],
      "execution_count": 69,
      "outputs": [
        {
          "output_type": "execute_result",
          "data": {
            "text/plain": [
              "Mild             366\n",
              "Severe           282\n",
              "Modereate        198\n",
              "Proliferative     87\n",
              "No_DR             70\n",
              "Name: level_str, dtype: int64"
            ]
          },
          "metadata": {
            "tags": []
          },
          "execution_count": 69
        }
      ]
    },
    {
      "cell_type": "code",
      "metadata": {
        "id": "xiJY5QR6Eivv"
      },
      "source": [
        "train_datagen = ImageDataGenerator(rescale=1./255,\n",
        "                                      zoom_range=0.1,\n",
        "                                      width_shift_range=0.1,\n",
        "                                      height_shift_range=0.1#,\n",
        "                                      #validation_split=0.2\n",
        "                                  \n",
        "                                      )\n",
        "test_datagen = ImageDataGenerator(rescale=1./255)"
      ],
      "execution_count": 126,
      "outputs": []
    },
    {
      "cell_type": "code",
      "metadata": {
        "colab": {
          "base_uri": "https://localhost:8080/"
        },
        "id": "RrVWDfqe_CRl",
        "outputId": "c6fd15e2-aa9e-42e5-c444-ba1ccde27a4f"
      },
      "source": [
        "train_gen = train_datagen.flow_from_dataframe(\n",
        "    dataframe=new_train,\n",
        "    directory=None, \n",
        "    x_col=\"fnames\",\n",
        "    y_col='level_str',   \n",
        "    batch_size=32,\n",
        "    seed=42,\n",
        "    class_mode='categorical',\n",
        "    #classes=class_list,\n",
        "    color_mode = 'rgb',\n",
        "    target_size=(224,224),\n",
        "    #subset='training',\n",
        "     shuffle=True)\n",
        "\n",
        "\n",
        "val_gen = train_datagen.flow_from_dataframe(\n",
        "    dataframe=new_train,\n",
        "    directory=None, \n",
        "    x_col=\"fnames\",\n",
        "    y_col='level_str',\n",
        "   \n",
        "    batch_size=32,\n",
        "    seed=42,\n",
        "    class_mode='categorical',\n",
        "    #classes=class_list,\n",
        "    color_mode = 'rgb',\n",
        "    target_size=(224,224),\n",
        "    subset='validation', shuffle=True)"
      ],
      "execution_count": 128,
      "outputs": [
        {
          "output_type": "stream",
          "text": [
            "Found 3185 validated image filenames belonging to 5 classes.\n",
            "Found 0 validated image filenames belonging to 5 classes.\n"
          ],
          "name": "stdout"
        }
      ]
    },
    {
      "cell_type": "code",
      "metadata": {
        "colab": {
          "base_uri": "https://localhost:8080/"
        },
        "id": "xietYOV3_CKp",
        "outputId": "36767c97-2d3b-4d58-8b10-4e55bfc5dfc6"
      },
      "source": [
        "test_gen = datagen.flow_from_dataframe(\n",
        "    dataframe=new_test,\n",
        "    directory=None, \n",
        "    x_col=\"fnames\",\n",
        "    y_col='level_str',\n",
        "    #has_ext=True,\n",
        "    batch_size=32,\n",
        "    seed=42,\n",
        "    class_mode='categorical',\n",
        "    #classes=class_list,\n",
        "    color_mode = 'rgb',\n",
        "    target_size=(224,224))"
      ],
      "execution_count": 129,
      "outputs": [
        {
          "output_type": "stream",
          "text": [
            "Found 1003 validated image filenames belonging to 5 classes.\n"
          ],
          "name": "stdout"
        }
      ]
    },
    {
      "cell_type": "code",
      "metadata": {
        "id": "PWh5jiYM_CEN"
      },
      "source": [
        ""
      ],
      "execution_count": null,
      "outputs": []
    },
    {
      "cell_type": "code",
      "metadata": {
        "colab": {
          "base_uri": "https://localhost:8080/"
        },
        "id": "CsuSN5ISiemw",
        "outputId": "e739dfcd-92ee-4234-9e57-888081821798"
      },
      "source": [
        "# datagen = ImageDataGenerator(rescale=1./255,\n",
        "#                                       zoom_range=0.2,\n",
        "#                                       width_shift_range=0.2,\n",
        "#                                       height_shift_range=0.2,\n",
        "#                                       validation_split=0.2\n",
        "#                                       )\n",
        "# train_data = datagen.flow_from_directory(train_dir,\n",
        "#                                                      target_size=(224,224),\n",
        "#                                                      batch_size=32,\n",
        "#                                                      class_mode = 'categorical',\n",
        "#                                                      subset = 'training')\n",
        "\n",
        "# valid_data = datagen.flow_from_directory( train_dir,\n",
        "#                                                      target_size=(224,224),\n",
        "#                                                      batch_size=32,\n",
        "#                                                      class_mode = 'categorical',\n",
        "#                                                      subset = 'validation')"
      ],
      "execution_count": 81,
      "outputs": [
        {
          "output_type": "stream",
          "text": [
            "Found 28103 images belonging to 5 classes.\n",
            "Found 7023 images belonging to 5 classes.\n"
          ],
          "name": "stdout"
        }
      ]
    },
    {
      "cell_type": "code",
      "metadata": {
        "id": "_a1ztkXKXbXB",
        "colab": {
          "base_uri": "https://localhost:8080/",
          "height": 425
        },
        "outputId": "f0f8eaa2-ebb7-482e-b137-659ea473b551"
      },
      "source": [
        "plt.figure(figsize=(10,6))\n",
        "plt.bar(labels, values)\n",
        "plt.title('Distribution of Data', fontdict={'fontsize':16})\n",
        "plt.xlabel('Severity of DR')\n",
        "plt.ylabel('Number of images')"
      ],
      "execution_count": 73,
      "outputs": [
        {
          "output_type": "execute_result",
          "data": {
            "text/plain": [
              "Text(0, 0.5, 'Number of images')"
            ]
          },
          "metadata": {
            "tags": []
          },
          "execution_count": 73
        },
        {
          "output_type": "display_data",
          "data": {
            "image/png": "[encoded data removed]",
            "text/plain": [
              "<Figure size 720x432 with 1 Axes>"
            ]
          },
          "metadata": {
            "tags": [],
            "needs_background": "light"
          }
        }
      ]
    },
    {
      "cell_type": "code",
      "metadata": {
        "colab": {
          "base_uri": "https://localhost:8080/",
          "height": 316
        },
        "id": "aD7PUIqDgTV3",
        "outputId": "7502b8ce-fc59-4a7f-d4c7-4d4cedef0f08"
      },
      "source": [
        "new_train.level_str.value_counts().plot(kind='bar');"
      ],
      "execution_count": 76,
      "outputs": [
        {
          "output_type": "display_data",
          "data": {
            "image/png": "[encoded data removed]",
            "text/plain": [
              "<Figure size 432x288 with 1 Axes>"
            ]
          },
          "metadata": {
            "tags": [],
            "needs_background": "light"
          }
        }
      ]
    },
    {
      "cell_type": "code",
      "metadata": {
        "id": "5y9tDngdHhV8",
        "outputId": "2265d6fd-37e6-40b0-8b54-18ea30da015d",
        "colab": {
          "base_uri": "https://localhost:8080/",
          "height": 316
        }
      },
      "source": [
        "new_test.level_str.value_counts().plot(kind='bar');"
      ],
      "execution_count": 77,
      "outputs": [
        {
          "output_type": "display_data",
          "data": {
            "image/png": "[encoded data removed]",
            "text/plain": [
              "<Figure size 432x288 with 1 Axes>"
            ]
          },
          "metadata": {
            "tags": [],
            "needs_background": "light"
          }
        }
      ]
    },
    {
      "cell_type": "code",
      "metadata": {
        "colab": {
          "base_uri": "https://localhost:8080/",
          "height": 393
        },
        "id": "JaRrQHKbjsOU",
        "outputId": "aa2fb470-f3d9-4f7b-df37-2481c1620f7e"
      },
      "source": [
        "plt.figure(figsize=(6,6))\n",
        "plt.pie(values, labels=labels, startangle=90, autopct=lambda p : '{:.2f}%'.format(p));\n",
        "plt.title('Proportion of classes in data', fontdict={'fontsize':16})"
      ],
      "execution_count": null,
      "outputs": [
        {
          "output_type": "execute_result",
          "data": {
            "text/plain": [
              "Text(0.5, 1.0, 'Proportion of classes in data')"
            ]
          },
          "metadata": {
            "tags": []
          },
          "execution_count": 16
        },
        {
          "output_type": "display_data",
          "data": {
            "image/png": "[encoded data removed]",
            "text/plain": [
              "<Figure size 432x432 with 1 Axes>"
            ]
          },
          "metadata": {
            "tags": []
          }
        }
      ]
    },
    {
      "cell_type": "code",
      "metadata": {
        "id": "gnaQGnBAHowN",
        "outputId": "2bfa50bc-e7ed-4e71-ba82-21669612402d",
        "colab": {
          "base_uri": "https://localhost:8080/",
          "height": 265
        }
      },
      "source": [
        "new_train.level_str.value_counts().plot(kind='pie');"
      ],
      "execution_count": 78,
      "outputs": [
        {
          "output_type": "execute_result",
          "data": {
            "text/plain": [
              "<matplotlib.axes._subplots.AxesSubplot at 0x7fcc07cd53d0>"
            ]
          },
          "metadata": {
            "tags": []
          },
          "execution_count": 78
        },
        {
          "output_type": "display_data",
          "data": {
            "image/png": "[encoded data removed]",
            "text/plain": [
              "<Figure size 432x288 with 1 Axes>"
            ]
          },
          "metadata": {
            "tags": []
          }
        }
      ]
    },
    {
      "cell_type": "code",
      "metadata": {
        "id": "cIWmLj57HoQx"
      },
      "source": [
        ""
      ],
      "execution_count": null,
      "outputs": []
    },
    {
      "cell_type": "code",
      "metadata": {
        "id": "Vgf-a_ssHUC6"
      },
      "source": [
        ""
      ],
      "execution_count": null,
      "outputs": []
    },
    {
      "cell_type": "code",
      "metadata": {
        "id": "TMpGGwuPtDJ7"
      },
      "source": [
        "train_fnames = os.listdir( train_dir+'/Mild' )\n",
        "import matplotlib.pyplot as plt"
      ],
      "execution_count": null,
      "outputs": []
    },
    {
      "cell_type": "code",
      "metadata": {
        "id": "WmT5xFtnB1r5"
      },
      "source": [
        "image = plt.imread(train_dir + '/Mild/' + train_fnames[0])"
      ],
      "execution_count": null,
      "outputs": []
    },
    {
      "cell_type": "code",
      "metadata": {
        "colab": {
          "base_uri": "https://localhost:8080/",
          "height": 287
        },
        "id": "ul1qmCUlB1f8",
        "outputId": "dfb786bd-cd2e-4cf0-dee2-eb0eda3fcf49"
      },
      "source": [
        "plt.imshow(image)"
      ],
      "execution_count": null,
      "outputs": [
        {
          "output_type": "execute_result",
          "data": {
            "text/plain": [
              "<matplotlib.image.AxesImage at 0x7f24f8355b90>"
            ]
          },
          "metadata": {
            "tags": []
          },
          "execution_count": 22
        },
        {
          "output_type": "display_data",
          "data": {
            "image/png": "[encoded data removed]",
            "text/plain": [
              "<Figure size 432x288 with 1 Axes>"
            ]
          },
          "metadata": {
            "tags": [],
            "needs_background": "light"
          }
        }
      ]
    },
    {
      "cell_type": "code",
      "metadata": {
        "colab": {
          "base_uri": "https://localhost:8080/"
        },
        "id": "OFa3e_eatC63",
        "outputId": "7c548184-1436-47b6-f2df-6f86b3176cb5"
      },
      "source": [
        "print(train_fnames)\n"
      ],
      "execution_count": null,
      "outputs": [
        {
          "output_type": "stream",
          "text": [
            "['34350_right.png', '34364_right.png', '34368_left.png', '34382_left.png', '34405_left.png', '34433_left.png', '34433_right.png', '34449_left.png', '34449_right.png', '34454_left.png', '34456_left.png', '34456_right.png', '34551_left.png', '34551_right.png', '34567_left.png', '34567_right.png', '34593_left.png', '34593_right.png', '3459_left.png', '3459_right.png', '34611_right.png', '34644_right.png', '34648_left.png', '34648_right.png', '3464_right.png', '34655_left.png', '34655_right.png', '34696_left.png', '34706_left.png', '34718_left.png', '34718_right.png', '34734_right.png', '34757_left.png', '34761_right.png', '34814_left.png', '34841_right.png', '34862_right.png', '348_left.png', '348_right.png', '34905_right.png', '34990_left.png', '34992_left.png', '35010_right.png', '35054_left.png', '35054_right.png', '35057_right.png', '35064_left.png', '35064_right.png', '35090_left.png', '35095_left.png', '35095_right.png', '3515_left.png', '35183_right.png', '35205_left.png', '35215_left.png', '35215_right.png', '3526_left.png', '35278_left.png', '35293_right.png', '35322_left.png', '35322_right.png', '35394_left.png', '35394_right.png', '35441_left.png', '35445_left.png', '35446_right.png', '35509_left.png', '35509_right.png', '35557_right.png', '35579_left.png', '35579_right.png', '35587_right.png', '35645_right.png', '35666_right.png', '35711_left.png', '35748_left.png', '35748_right.png', '35764_right.png', '35803_left.png', '35803_right.png', '35807_left.png', '35807_right.png', '35808_left.png', '35810_right.png', '35812_right.png', '35858_left.png', '35868_left.png', '3587_left.png', '3587_right.png', '35933_right.png', '35947_right.png', '35967_left.png', '35973_left.png', '35973_right.png', '36008_right.png', '36026_left.png', '36035_left.png', '36035_right.png', '3605_left.png', '3605_right.png', '36064_right.png', '36099_right.png', '3612_left.png', '36162_left.png', '3622_left.png', '3622_right.png', '36237_right.png', '36256_left.png', '36256_right.png', '36276_left.png', '36285_left.png', '36322_left.png', '36322_right.png', '36335_left.png', '36351_right.png', '36364_left.png', '36367_left.png', '36367_right.png', '36395_left.png', '36427_left.png', '36427_right.png', '36442_right.png', '36466_left.png', '36500_right.png', '36507_right.png', '36513_right.png', '36517_right.png', '36566_left.png', '36588_left.png', '36588_right.png', '36613_left.png', '36631_left.png', '36631_right.png', '36705_right.png', '36718_right.png', '3671_left.png', '36724_left.png', '36728_left.png', '36728_right.png', '36741_left.png', '36741_right.png', '36745_left.png', '36778_left.png', '36778_right.png', '36785_right.png', '36791_right.png', '36808_left.png', '36819_right.png', '36879_left.png', '36879_right.png', '3688_left.png', '36919_right.png', '36921_left.png', '36921_right.png', '36933_right.png', '36956_left.png', '36958_left.png', '36999_left.png', '36_left.png', '37020_left.png', '37020_right.png', '37035_left.png', '37097_right.png', '37110_left.png', '37192_left.png', '37179_right.png', '37192_right.png', '3722_left.png', '37235_left.png', '37235_right.png', '37294_right.png', '37320_left.png', '37320_right.png', '37366_left.png', '3740_left.png', '37469_left.png', '37469_right.png', '37488_right.png', '374_right.png', '37500_right.png', '37604_left.png', '37639_left.png', '37639_right.png', '37647_right.png', '37656_right.png', '37669_right.png', '37675_right.png', '3767_right.png', '37699_right.png', '3774_right.png', '37756_right.png', '37788_right.png', '37792_left.png', '37792_right.png', '37795_right.png', '3779_left.png', '3779_right.png', '3780_left.png', '3780_right.png', '3782_left.png', '37831_right.png', '37859_left.png', '37867_left.png', '37867_right.png', '37868_left.png', '37917_left.png', '37917_right.png', '37936_left.png', '37938_left.png', '37953_left.png', '37962_right.png', '38008_left.png', '38011_left.png', '38010_left.png', '38060_right.png', '38066_left.png', '38066_right.png', '38071_left.png', '38071_right.png', '38072_right.png', '38080_right.png', '38083_right.png', '38083_left.png', '38114_left.png', '38114_right.png', '38116_left.png', '38130_left.png', '38116_right.png', '38163_left.png', '38164_left.png', '38179_left.png', '38188_right.png', '38179_right.png', '38189_left.png', '38189_right.png', '38215_right.png', '38230_left.png', '38276_left.png', '38274_left.png', '38276_right.png', '3829_right.png', '38326_left.png', '38375_right.png', '38391_left.png', '38391_right.png', '38401_right.png', '38410_left.png', '38410_right.png', '38454_left.png', '38454_right.png', '38458_right.png', '38478_right.png', '38587_right.png', '38596_left.png', '38634_left.png', '38634_right.png', '38638_right.png', '38664_left.png', '38714_left.png', '38714_right.png', '38715_left.png', '38727_left.png', '38743_left.png', '38789_right.png', '38833_left.png', '38882_left.png', '3888_right.png', '38895_right.png', '38925_left.png', '3894_left.png', '3895_right.png', '38979_left.png', '38997_left.png', '39009_left.png', '39009_right.png', '39018_left.png', '39018_right.png', '39033_left.png', '39033_right.png', '39075_right.png', '39078_left.png', '39094_right.png', '39111_left.png', '39224_left.png', '39224_right.png', '39284_left.png', '39287_right.png', '39316_right.png', '39326_left.png', '39326_right.png', '39333_right.png', '39343_left.png', '39343_right.png', '39369_right.png', '39383_right.png', '39387_left.png', '39391_left.png', '39396_left.png', '393_right.png', '39402_left.png', '39402_right.png', '39409_right.png', '39504_right.png', '39554_left.png', '39582_left.png', '39588_left.png', '39650_right.png', '39657_left.png', '39657_right.png', '39663_left.png', '39670_right.png', '39691_left.png', '39743_right.png', '39744_right.png', '39773_left.png', '39791_right.png', '39805_right.png', '39826_left.png', '39826_right.png', '39828_left.png', '39832_left.png', '39834_left.png', '39834_right.png', '3983_right.png', '39864_right.png', '39939_left.png', '39957_right.png', '39968_left.png', '39968_right.png', '39975_right.png', '39978_left.png', '39978_right.png', '39982_left.png', '39999_left.png', '39999_right.png', '40008_right.png', '40033_left.png', '40068_left.png', '40077_right.png', '40083_right.png', '40108_left.png', '40202_right.png', '40212_left.png', '40265_left.png', '40265_right.png', '40284_left.png', '40284_right.png', '40316_left.png', '40316_right.png', '4036_left.png', '40376_right.png', '40390_left.png', '40390_right.png', '40404_left.png', '40423_left.png', '40423_right.png', '40506_right.png', '40508_right.png', '40551_left.png', '40557_left.png', '40557_right.png', '40558_right.png', '40570_right.png', '40582_left.png', '40584_right.png', '40667_left.png', '40667_right.png', '40674_left.png', '40677_left.png', '40683_left.png', '40684_right.png', '40752_left.png', '40752_right.png', '40757_left.png', '40757_right.png', '40769_left.png', '40790_left.png', '40791_left.png', '40805_left.png', '40805_right.png', '40808_left.png', '40808_right.png', '40812_left.png', '40823_right.png', '40832_left.png', '40848_left.png', '40848_right.png', '40853_left.png', '40873_right.png', '40894_right.png', '40921_right.png', '40937_right.png', '40965_left.png', '40965_right.png', '41001_left.png', '41059_left.png', '41059_right.png', '41081_left.png', '41105_left.png', '41105_right.png', '4113_left.png', '4113_right.png', '41178_left.png', '41287_right.png', '41311_left.png', '41318_left.png', '41318_right.png', '41324_left.png', '41325_right.png', '41379_right.png', '41394_left.png', '41411_left.png', '41425_right.png', '41471_left.png', '41471_right.png', '41517_right.png', '41525_left.png', '41525_right.png', '41538_left.png', '41538_right.png', '41548_right.png', '41621_left.png', '41640_left.png', '41640_right.png', '41681_left.png', '41681_right.png', '41688_left.png', '41688_right.png', '41717_left.png', '41717_right.png', '41739_left.png', '417_left.png', '417_right.png', '41804_left.png', '41804_right.png', '41813_right.png', '41845_left.png', '41851_left.png', '41851_right.png', '41863_left.png', '41863_right.png', '41904_right.png', '41918_right.png', '41932_left.png', '41940_left.png', '41946_right.png', '41949_left.png', '41949_right.png', '41979_left.png', '41979_right.png', '42020_left.png', '42020_right.png', '4204_left.png', '4204_right.png', '42082_left.png', '42087_right.png', '42184_left.png', '42184_right.png', '42194_right.png', '421_left.png', '42264_right.png', '42284_right.png', '4230_left.png', '4230_right.png', '4232_right.png', '42333_left.png', '42333_right.png', '42364_left.png', '42364_right.png', '42368_left.png', '42368_right.png', '42371_left.png', '42386_left.png', '42386_right.png', '42420_left.png', '42420_right.png', '42452_right.png', '42471_left.png', '42473_left.png', '42473_right.png', '4249_left.png', '4249_right.png', '42503_left.png', '42503_right.png', '42537_left.png', '42537_right.png', '42560_left.png', '4257_left.png', '42586_left.png', '42596_right.png', '42615_left.png', '42615_right.png', '42633_left.png', '42636_left.png', '42636_right.png', '42653_right.png', '42665_left.png', '42690_left.png', '42690_right.png', '42702_left.png', '42705_left.png', '42705_right.png', '42728_left.png', '42728_right.png', '42766_right.png', '42807_left.png', '42807_right.png', '42834_left.png', '42873_left.png', '42919_right.png', '42965_right.png', '42973_right.png', '42981_right.png', '4300_left.png', '4300_right.png', '43024_right.png', '43030_left.png', '43030_right.png', '43047_left.png', '43047_right.png', '4304_left.png', '4304_right.png', '43063_left.png', '43063_right.png', '43101_right.png', '4311_left.png', '4311_right.png', '43134_left.png', '43148_left.png', '43154_left.png', '43154_right.png', '43158_left.png', '43158_right.png', '43161_right.png', '43171_left.png', '43196_left.png', '43235_left.png', '43235_right.png', '43243_left.png', '43243_right.png', '4326_left.png', '4326_right.png', '43291_left.png', '43291_right.png', '4329_left.png', '4329_right.png', '43311_right.png', '43314_left.png', '43318_right.png', '43359_right.png', '43441_left.png', '43441_right.png', '43450_left.png', '43450_right.png', '43457_left.png', '43457_right.png', '43511_left.png', '43540_right.png', '43549_left.png', '43552_left.png', '43563_left.png', '43563_right.png', '43593_left.png', '43583_right.png', '43593_right.png', '435_left.png', '435_right.png', '43626_right.png', '43637_right.png', '43639_left.png', '43639_right.png', '43683_right.png', '43694_left.png', '43694_right.png', '43747_right.png', '43753_left.png', '43753_right.png', '43822_right.png', '43826_left.png', '43902_left.png', '4391_right.png', '43923_right.png', '4395_left.png', '43973_right.png', '44003_left.png', '44012_left.png', '44025_right.png', '44069_left.png', '44117_left.png', '44117_right.png', '44145_left.png', '44191_left.png', '44196_left.png', '44196_right.png', '44236_left.png', '44236_right.png', '44237_right.png', '44242_left.png', '4424_right.png', '44275_left.png', '44263_left.png', '44275_right.png', '44309_left.png', '44309_right.png', '44323_left.png', '44323_right.png', '44328_right.png', '44337_left.png', '44349_right.png', '4434_left.png', '4470_left.png', '4470_right.png', '4479_left.png', '4485_right.png', '4524_left.png', '4524_right.png', '4527_left.png', '4527_right.png', '4533_left.png', '4534_right.png', '4545_left.png', '4545_right.png', '4570_left.png', '4582_right.png', '4614_left.png', '4614_right.png', '4689_left.png', '4696_right.png', '4711_right.png', '4755_left.png', '4757_left.png', '4769_left.png', '4769_right.png', '4781_left.png', '4781_right.png', '4830_left.png', '4831_left.png', '4831_right.png', '4839_left.png', '4839_right.png', '4852_left.png', '4864_left.png', '4864_right.png', '4869_right.png', '487_right.png', '4885_right.png', '4904_left.png', '4904_right.png', '4915_right.png', '4916_left.png', '4931_right.png', '4946_left.png', '4946_right.png', '5008_left.png', '5009_left.png', '5009_right.png', '5010_left.png', '5010_right.png', '5024_right.png', '5039_right.png', '5044_left.png', '5044_right.png', '5062_left.png', '5062_right.png', '5118_left.png', '5118_right.png', '5137_left.png', '5137_right.png', '5146_left.png', '5177_left.png', '5209_right.png', '525_left.png', '525_right.png', '5267_left.png', '5267_right.png', '5274_right.png', '5276_right.png', '527_left.png', '5288_left.png', '5288_right.png', '5358_left.png', '5358_right.png', '5365_left.png', '5383_left.png', '5394_left.png', '5407_right.png', '5423_left.png', '5423_right.png', '5435_right.png', '5441_left.png', '5441_right.png', '5472_left.png', '5497_left.png', '5497_right.png', '5506_left.png', '5516_left.png', '5526_left.png', '5526_right.png', '5559_right.png', '5581_left.png', '5581_right.png', '5589_right.png', '560_left.png', '5615_right.png', '5667_left.png', '5667_right.png', '566_left.png', '566_right.png', '568_right.png', '5695_left.png', '5695_right.png', '5697_left.png', '5697_right.png', '5720_left.png', '5743_right.png', '5776_left.png', '5776_right.png', '5792_left.png', '5811_right.png', '5827_right.png', '5841_left.png', '5841_right.png', '5861_left.png', '5861_right.png', '5891_left.png', '5891_right.png', '5930_left.png', '5944_right.png', '5953_right.png', '5962_left.png', '5962_right.png', '5974_left.png', '5980_left.png', '5980_right.png', '5994_left.png', '5994_right.png', '6005_left.png', '6021_left.png', '6032_right.png', '607_right.png', '6127_left.png', '6138_left.png', '6165_left.png', '6165_right.png', '6168_left.png', '6175_left.png', '6175_right.png', '6199_left.png', '6199_right.png', '6240_right.png', '6259_right.png', '6290_right.png', '6305_left.png', '6305_right.png', '6317_right.png', '6348_left.png', '6374_left.png', '6415_right.png', '6452_left.png', '6459_left.png', '6529_right.png', '6546_left.png', '6546_right.png', '6631_left.png', '6643_left.png', '6643_right.png', '6691_left.png', '669_right.png', '6691_right.png', '6704_left.png', '6704_right.png', '6732_left.png', '6732_right.png', '6772_left.png', '6772_right.png', '6785_right.png', '6806_left.png', '6806_right.png', '6808_left.png', '6808_right.png', '6811_right.png', '6840_right.png', '6865_left.png', '6865_right.png', '6947_left.png', '6927_right.png', '6947_right.png', '6958_left.png', '6958_right.png', '6965_left.png', '6965_right.png', '696_left.png', '7009_left.png', '7009_right.png', '7107_right.png', '7131_left.png', '7131_right.png', '7158_left.png', '7172_left.png', '7172_right.png', '7174_left.png', '7174_right.png', '7205_left.png', '7219_left.png', '7219_right.png', '728_right.png', '7290_left.png', '7292_left.png', '7292_right.png', '7299_right.png', '7322_left.png', '7339_left.png', '7378_right.png', '7379_right.png', '7390_left.png', '7411_right.png', '7457_right.png', '7459_left.png', '7459_right.png', '7463_left.png', '7463_right.png', '7464_right.png', '7466_left.png', '7475_right.png', '7468_right.png', '7494_right.png', '7504_left.png', '7504_right.png', '7505_left.png', '7556_left.png', '7556_right.png', '7560_left.png', '7580_left.png', '7580_right.png', '7601_left.png', '7651_right.png', '766_left.png', '766_right.png', '7726_left.png', '7739_right.png', '7746_left.png', '7746_right.png', '7750_right.png', '7754_left.png', '7754_right.png', '7773_right.png', '7788_left.png', '7797_left.png', '7797_right.png', '7800_left.png', '7886_left.png', '7886_right.png', '7890_left.png', '7898_right.png', '7961_left.png', '7961_right.png', '7985_right.png', '8006_left.png', '8006_right.png', '8007_left.png', '8029_left.png', '8047_left.png', '8093_left.png', '8093_right.png', '8146_left.png', '8162_left.png', '8181_left.png', '8203_left.png', '8203_right.png', '8231_left.png', '8231_right.png', '8232_left.png', '8275_right.png', '8295_left.png', '8295_right.png', '8339_left.png', '8342_right.png', '8347_left.png', '8347_right.png', '8358_left.png', '8388_left.png', '8403_right.png', '8407_left.png', '8407_right.png', '8410_left.png', '8410_right.png', '8421_left.png', '8418_right.png', '8430_left.png', '844_right.png', '8493_left.png', '8513_left.png', '8513_right.png', '8553_left.png', '8555_right.png', '8620_left.png', '8623_right.png', '8623_left.png', '8637_left.png', '8637_right.png', '8660_left.png', '8669_left.png', '8669_right.png', '8695_left.png', '869_left.png', '869_right.png', '8711_left.png', '8711_right.png', '8744_left.png', '8783_right.png', '8788_right.png', '8794_left.png', '8827_left.png', '8873_left.png', '8889_left.png', '8889_right.png', '8897_left.png', '8897_right.png', '8900_left.png', '8900_right.png', '8919_right.png', '8936_right.png', '8956_right.png', '8966_right.png', '8981_left.png', '8981_right.png', '8993_right.png', '8999_left.png', '8999_right.png', '9000_left.png', '9008_left.png', '9008_right.png', '9024_right.png', '9100_left.png', '9116_left.png', '9120_left.png', '9183_right.png', '9166_right.png', '9200_right.png', '9214_right.png', '9244_left.png', '9244_right.png', '9251_left.png', '9255_left.png', '9255_right.png', '9259_right.png', '9297_left.png', '9300_right.png', '9313_left.png', '9342_left.png', '9359_right.png', '9366_left.png', '9366_right.png', '9404_right.png', '9423_right.png', '9456_right.png', '9462_left.png', '9467_left.png', '9467_right.png', '9478_left.png', '9505_left.png', '9509_left.png', '9525_left.png', '9539_right.png', '9546_right.png', '9601_right.png', '9619_right.png', '9632_left.png', '9663_left.png', '9663_right.png', '9670_left.png', '9683_right.png', '971_right.png', '9737_left.png', '9737_right.png', '9744_right.png', '9759_left.png', '978_left.png', '978_right.png', '9810_left.png', '9810_right.png', '9821_left.png', '9821_right.png', '9868_right.png', '9848_right.png', '9871_left.png', '992_left.png', '9933_left.png', '9933_right.png', '9949_right.png', '9959_left.png', '9963_left.png', '9959_right.png', '9963_right.png', '9975_left.png', '9975_right.png', '9976_right.png', '997_right.png', '9992_left.png', '9992_right.png', '17202_right.png', '17207_right.png', '17234_right.png', '17264_left.png', '17276_left.png', '17276_right.png', '17298_left.png', '17298_right.png', '17317_left.png', '17299_left.png', '17318_left.png', '17318_right.png', '17326_left.png', '17348_right.png', '17359_right.png', '17442_right.png', '17461_left.png', '17483_left.png', '17491_right.png', '17495_right.png', '17501_left.png', '17509_left.png', '17550_right.png', '17555_left.png', '17564_left.png', '17555_right.png', '17615_left.png', '17564_right.png', '17615_right.png', '17629_left.png', '17627_right.png', '17644_left.png', '17647_right.png', '17647_left.png', '17688_left.png', '17699_right.png', '17688_right.png', '17705_left.png', '17732_right.png', '17705_right.png', '1776_left.png', '17734_right.png', '1776_right.png', '17785_left.png', '17798_left.png', '17785_right.png', '17805_left.png', '17805_right.png', '17840_right.png', '17847_left.png', '17847_right.png', '17852_left.png', '17868_right.png', '1785_left.png', '17873_left.png', '178_left.png', '17873_right.png', '178_right.png', '17934_left.png', '17934_right.png', '17986_right.png', '17986_left.png', '17998_left.png', '18014_left.png', '17_right.png', '18014_right.png', '1817_right.png', '18155_right.png', '18185_left.png', '18205_left.png', '18233_right.png', '18274_left.png', '18297_left.png', '18274_right.png', '1833_right.png', '18365_right.png', '18368_right.png', '18372_right.png', '18392_left.png', '18392_right.png', '18405_right.png', '18433_left.png', '18433_right.png', '18438_right.png', '18493_left.png', '18507_left.png', '18507_right.png', '1851_left.png', '18528_left.png', '18528_right.png', '1856_left.png', '1853_right.png', '1856_right.png', '18575_left.png', '18575_right.png', '18618_right.png', '18648_right.png', '18653_right.png', '1867_left.png', '1867_right.png', '18708_right.png', '18759_left.png', '18763_right.png', '18770_right.png', '18780_left.png', '18915_left.png', '18915_right.png', '18933_left.png', '18972_left.png', '18995_right.png', '18972_right.png', '19004_right.png', '19017_left.png', '19022_right.png', '19029_left.png', '19029_right.png', '19075_left.png', '19046_left.png', '19075_right.png', '19114_left.png', '19114_right.png', '19141_right.png', '19158_left.png', '19163_right.png', '19177_left.png', '19193_left.png', '19177_right.png', '19200_right.png', '19254_right.png', '19238_left.png', '19269_left.png', '19269_right.png', '19278_left.png', '19309_left.png', '1932_left.png', '1932_right.png', '19422_left.png', '1933_left.png', '19422_right.png', '19431_right.png', '19452_left.png', '19472_left.png', '19462_left.png', '19493_left.png', '19493_right.png', '19504_left.png', '19504_right.png', '19555_left.png', '19572_right.png', '19626_left.png', '19626_right.png', '19628_left.png', '19743_left.png', '19755_left.png', '19802_left.png', '19802_right.png', '19830_left.png', '19849_right.png', '19830_right.png', '19859_left.png', '19859_right.png', '1986_right.png', '19878_left.png', '19925_right.png', '19878_right.png', '19953_right.png', '19986_left.png', '19976_left.png', '1999_left.png', '20019_left.png', '20019_right.png', '20030_right.png', '20062_left.png', '20062_right.png', '20082_left.png', '20093_left.png', '20082_right.png', '20093_right.png', '2010_right.png', '20115_left.png', '20134_left.png', '20115_right.png', '20134_right.png', '20147_left.png', '20169_right.png', '20179_left.png', '20182_left.png', '20200_right.png', '20236_right.png', '20226_left.png', '20242_left.png', '20249_right.png', '20280_right.png', '20275_right.png', '20286_left.png', '20286_right.png', '20292_right.png', '20309_left.png', '20315_left.png', '20346_left.png', '2034_left.png', '2034_right.png', '20361_right.png', '20370_left.png', '20404_left.png', '20404_right.png', '20460_right.png', '20473_right.png', '20464_left.png', '20490_left.png', '20499_left.png', '204_right.png', '20513_left.png', '20513_right.png', '20523_left.png', '20523_right.png', '20556_left.png', '20568_left.png', '20570_left.png', '20621_left.png', '20570_right.png', '20634_left.png', '20671_right.png', '20671_left.png', '20674_left.png', '20677_left.png', '20677_right.png', '20742_left.png', '20806_right.png', '20784_left.png', '20808_left.png', '20842_right.png', '20894_left.png', '20913_left.png', '20913_right.png', '20926_left.png', '20993_left.png', '21008_left.png', '2106_left.png', '2106_right.png', '21105_right.png', '21123_left.png', '21123_right.png', '21149_left.png', '21184_left.png', '21172_right.png', '21250_left.png', '21250_right.png', '21278_left.png', '21294_right.png', '21297_right.png', '21297_left.png', '2129_left.png', '2129_right.png', '21331_left.png', '21417_left.png', '21456_left.png', '21455_right.png', '21456_right.png', '214_left.png', '21483_left.png', '21513_right.png', '21556_right.png', '21556_left.png', '2155_left.png', '21571_right.png', '21604_right.png', '2161_left.png', '21679_left.png', '2168_left.png', '21695_left.png', '21695_right.png', '21714_right.png', '21718_left.png', '21720_left.png', '21756_left.png', '21797_left.png', '21797_right.png', '21824_right.png', '21833_left.png', '21903_left.png', '2192_right.png', '21955_right.png', '21954_left.png', '21973_left.png', '21973_right.png', '21978_left.png', '21978_right.png', '21982_left.png', '21987_left.png', '21998_left.png', '21987_right.png', '22034_left.png', '22045_right.png', '22077_left.png', '22080_left.png', '22110_right.png', '22171_left.png', '22154_left.png', '22171_right.png', '22208_left.png', '22299_left.png', '22332_left.png', '22330_right.png', '2233_left.png', '2233_right.png', '22349_right.png', '22360_left.png', '22397_left.png', '22398_left.png', '22398_right.png', '22424_left.png', '22468_right.png', '22476_left.png', '2261_right.png', '22625_right.png', '22661_left.png', '22697_left.png', '22700_left.png', '22713_right.png', '22700_right.png', '22753_left.png', '227_left.png', '22821_right.png', '22841_left.png', '22852_right.png', '22887_right.png', '22916_left.png', '22916_right.png', '2294_left.png', '2294_right.png', '22987_left.png', '22951_right.png', '22987_right.png', '22991_left.png', '23007_left.png', '23029_right.png', '23050_left.png', '23050_right.png', '23118_right.png', '23123_left.png', '23123_right.png', '23170_left.png', '23157_right.png', '2318_right.png', '231_left.png', '23263_right.png', '23271_left.png', '23335_left.png', '23306_right.png', '23356_left.png', '23394_left.png', '23394_right.png', '23411_right.png', '23395_right.png', '23480_right.png', '23483_left.png', '23502_left.png', '23502_right.png', '23523_right.png', '23532_left.png', '23532_right.png', '23534_left.png', '23534_right.png', '23538_right.png', '23541_left.png', '23547_left.png', '23548_left.png', '23553_left.png', '23553_right.png', '2359_right.png', '23642_right.png', '23718_right.png', '23695_left.png', '23731_left.png', '23731_right.png', '23771_right.png', '23771_left.png', '23775_right.png', '23786_right.png', '23786_left.png', '23796_left.png', '23797_right.png', '23814_left.png', '23814_right.png', '2382_left.png', '2382_right.png', '23850_right.png', '23852_right.png', '23856_left.png', '23856_right.png', '23873_left.png', '23890_right.png', '23916_right.png', '23916_left.png', '23949_right.png', '23996_left.png', '23996_right.png', '24033_right.png', '24094_left.png', '240_right.png', '24144_left.png', '24166_left.png', '24155_right.png', '24166_right.png', '24237_left.png', '24237_right.png', '2423_left.png', '2423_right.png', '24243_left.png', '24299_left.png', '2430_left.png', '24336_left.png', '24314_left.png', '24336_right.png', '2433_right.png', '24341_left.png', '24341_right.png', '24392_left.png', '24392_right.png', '24402_left.png', '24447_right.png', '24478_right.png', '24490_left.png', '24491_right.png', '24503_right.png', '24589_left.png', '24589_right.png', '24599_right.png', '24608_right.png', '24607_right.png', '24612_right.png', '24625_left.png', '24645_left.png', '24655_right.png', '24668_right.png', '24696_right.png', '24696_left.png', '24703_right.png', '24704_right.png', '24712_right.png', '24738_right.png', '24754_left.png', '24774_left.png', '24783_left.png', '24783_right.png', '24802_left.png', '24813_right.png', '2488_left.png', '24873_left.png', '2488_right.png', '24914_left.png', '2495_right.png', '24962_left.png', '24962_right.png', '24982_left.png', '24983_left.png', '24983_right.png', '24995_right.png', '24990_right.png', '24996_left.png', '24996_right.png', '25008_right.png', '25009_right.png', '25070_right.png', '25132_left.png', '25133_left.png', '25154_left.png', '25154_right.png', '25158_right.png', '25162_left.png', '2516_right.png', '25203_left.png', '25203_right.png', '25205_left.png', '25205_right.png', '25210_left.png', '25210_right.png', '25236_left.png', '2525_left.png', '25249_right.png', '25260_right.png', '25280_right.png', '25296_left.png', '25312_left.png', '2531_left.png', '25316_left.png', '2531_right.png', '25390_right.png', '25392_right.png', '25417_left.png', '25448_left.png', '25448_right.png', '25449_left.png', '25458_left.png', '25449_right.png', '25474_left.png', '25474_right.png', '25475_left.png', '25475_right.png', '25478_right.png', '25478_left.png', '25497_left.png', '25517_right.png', '25518_left.png', '25518_right.png', '25551_left.png', '25534_left.png', '25551_right.png', '25582_left.png', '25604_left.png', '25584_right.png', '25628_right.png', '25637_left.png', '25637_right.png', '25656_left.png', '25656_right.png', '25672_right.png', '25679_left.png', '25680_right.png', '25717_right.png', '25758_right.png', '25787_left.png', '25820_right.png', '25936_left.png', '25936_right.png', '25988_left.png', '26051_left.png', '26024_left.png', '26051_right.png', '26056_left.png', '26056_right.png', '26078_left.png', '26103_left.png', '26103_right.png', '26123_left.png', '26123_right.png', '26190_left.png', '26140_right.png', '26190_right.png', '26235_left.png', '2623_right.png', '2629_left.png', '26245_left.png', '2629_right.png', '26300_left.png', '26300_right.png', '26312_right.png', '26319_right.png', '26433_right.png', '26377_right.png', '26470_left.png', '26477_left.png', '26487_right.png', '26503_left.png', '26503_right.png', '26591_left.png', '26591_right.png', '26595_left.png', '26595_right.png', '26627_left.png', '26627_right.png', '26649_left.png', '26649_right.png', '26665_left.png', '26737_left.png', '26741_left.png', '26763_right.png', '26796_left.png', '26796_right.png', '26810_left.png', '26811_right.png', '26863_left.png', '26863_right.png', '2691_left.png', '26962_right.png', '26967_left.png', '26986_right.png', '26996_right.png', '27004_right.png', '27015_right.png', '27057_left.png', '27065_left.png', '27076_right.png', '27077_right.png', '27145_left.png', '27165_right.png', '27191_right.png', '27214_left.png', '27214_right.png', '27223_left.png', '27223_right.png', '27264_left.png', '27304_left.png', '27304_right.png', '27339_left.png', '27344_left.png', '27358_left.png', '27358_right.png', '27360_right.png', '27368_left.png', '27368_right.png', '27374_right.png', '27378_left.png', '27426_right.png', '27436_left.png', '27436_right.png', '27534_left.png', '27534_right.png', '27541_left.png', '27588_left.png', '27588_right.png', '27590_left.png', '27620_right.png', '27654_left.png', '27677_left.png', '27677_right.png', '27695_right.png', '27713_left.png', '27755_right.png', '27785_left.png', '27810_right.png', '27836_left.png', '27850_left.png', '27885_right.png', '27905_right.png', '27932_left.png', '27932_right.png', '27943_left.png', '27959_left.png', '27959_right.png', '28007_left.png', '28015_left.png', '28015_right.png', '2802_right.png', '28036_left.png', '28036_right.png', '28046_right.png', '28080_left.png', '28113_left.png', '28113_right.png', '28154_right.png', '28174_left.png', '28177_left.png', '28177_right.png', '28327_left.png', '28353_right.png', '28368_left.png', '28442_right.png', '2844_left.png', '2844_right.png', '28455_right.png', '28457_left.png', '28469_right.png', '28486_right.png', '28540_right.png', '28551_right.png', '28569_left.png', '28579_left.png', '28569_right.png', '28579_right.png', '28583_left.png', '2858_left.png', '28583_right.png', '2858_right.png', '28612_right.png', '28646_right.png', '28721_left.png', '28721_right.png', '28726_left.png', '28726_right.png', '2877_left.png', '2877_right.png', '28796_left.png', '28839_left.png', '28839_right.png', '28905_left.png', '28934_right.png', '28947_left.png', '28947_right.png', '29020_left.png', '29021_right.png', '29038_left.png', '29038_right.png', '29052_left.png', '29102_left.png', '29107_right.png', '29156_left.png', '29238_left.png', '29238_right.png', '29278_left.png', '29293_left.png', '29293_right.png', '29312_right.png', '29312_left.png', '29320_right.png', '29322_left.png', '29330_left.png', '29334_left.png', '29330_right.png', '29367_left.png', '29377_right.png', '29377_left.png', '29390_right.png', '2949_right.png', '29526_left.png', '29518_left.png', '2953_left.png', '29549_left.png', '29549_right.png', '29559_right.png', '29569_right.png', '29569_left.png', '2956_left.png', '2956_right.png', '29623_left.png', '29623_right.png', '29650_right.png', '29650_left.png', '29654_left.png', '29654_right.png', '2965_right.png', '29656_left.png', '29684_right.png', '2972_left.png', '29737_left.png', '2972_right.png', '29740_right.png', '29768_left.png', '29768_right.png', '29803_left.png', '29788_left.png', '29803_right.png', '29810_left.png', '29810_right.png', '29884_left.png', '29894_left.png', '29894_right.png', '29899_left.png', '29899_right.png', '29902_right.png', '29921_left.png', '29935_left.png', '29929_right.png', '29967_left.png', '30000_right.png', '30004_right.png', '30033_right.png', '30033_left.png', '30081_right.png', '30099_left.png', '30099_right.png', '30122_left.png', '30124_right.png', '30146_left.png', '30146_right.png', '3017_left.png', '3018_right.png', '30197_right.png', '301_right.png', '30205_left.png', '30233_left.png', '30235_left.png', '30290_left.png', '30290_right.png', '30299_left.png', '30299_right.png', '30318_left.png', '30334_left.png', '30363_left.png', '30398_right.png', '30402_right.png', '30415_right.png', '30448_right.png', '30537_left.png', '30537_right.png', '30550_left.png', '30550_right.png', '30595_right.png', '30595_left.png', '30597_right.png', '30606_left.png', '30606_right.png', '3060_left.png', '3061_left.png', '30645_right.png', '30653_left.png', '30653_right.png', '30741_left.png', '30741_right.png', '30785_right.png', '30791_left.png', '30791_right.png', '30840_left.png', '30840_right.png', '30846_right.png', '30859_left.png', '30898_left.png', '3094_left.png', '30_left.png', '31010_left.png', '31010_right.png', '31035_left.png', '31036_right.png', '31036_left.png', '31054_left.png', '31060_left.png', '31060_right.png', '31098_right.png', '31108_left.png', '31108_right.png', '31140_right.png', '31163_left.png', '31191_left.png', '3124_left.png', '3124_right.png', '31273_left.png', '31273_right.png', '31289_left.png', '31311_right.png', '31312_right.png', '31347_right.png', '31348_left.png', '31348_right.png', '31363_left.png', '31363_right.png', '31397_left.png', '31397_right.png', '3139_left.png', '31435_left.png', '31435_right.png', '31442_left.png', '31450_left.png', '31469_left.png', '31469_right.png', '31499_right.png', '31529_left.png', '31529_right.png', '31537_left.png', '31540_left.png', '31540_right.png', '31552_right.png', '31598_left.png', '31598_right.png', '31608_left.png', '31621_left.png', '31624_left.png', '31667_right.png', '31709_right.png', '31722_left.png', '31724_right.png', '31724_left.png', '31752_left.png', '31772_left.png', '31789_right.png', '31863_left.png', '31833_right.png', '31886_right.png', '3189_right.png', '31932_left.png', '31907_left.png', '31950_right.png', '31972_right.png', '3197_left.png', '31981_left.png', '31981_right.png', '32008_left.png', '32008_right.png', '32072_right.png', '32098_right.png', '32098_left.png', '320_left.png', '32112_left.png', '32112_right.png', '32129_left.png', '32130_left.png', '32130_right.png', '32142_left.png', '3216_right.png', '32142_right.png', '32176_left.png', '32200_right.png', '32226_left.png', '32237_left.png', '32253_left.png', '32253_right.png', '32282_left.png', '32298_left.png', '32298_right.png', '32307_left.png', '32308_right.png', '32314_left.png', '32314_right.png', '3237_right.png', '32402_left.png', '32412_right.png', '32418_left.png', '32454_left.png', '32454_right.png', '32476_left.png', '32486_left.png', '32535_left.png', '32536_left.png', '32550_right.png', '32558_right.png', '32566_right.png', '32614_left.png', '32614_right.png', '32627_right.png', '32644_left.png', '32644_right.png', '32680_right.png', '32691_right.png', '32695_left.png', '32702_left.png', '32703_left.png', '3271_right.png', '32731_left.png', '32731_right.png', '32764_right.png', '32768_right.png', '32794_left.png', '32798_left.png', '32798_right.png', '32833_right.png', '32835_left.png', '32890_left.png', '32890_right.png', '32893_right.png', '32901_right.png', '32918_right.png', '32924_right.png', '32964_left.png', '32979_left.png', '32987_left.png', '32979_right.png', '3303_right.png', '33096_left.png', '33163_right.png', '33208_left.png', '33208_right.png', '33231_left.png', '33327_right.png', '33395_left.png', '33395_right.png', '3339_left.png', '3339_right.png', '33415_right.png', '33417_left.png', '33417_right.png', '33434_right.png', '33472_left.png', '33472_right.png', '33484_left.png', '33491_left.png', '33491_right.png', '33492_right.png', '33507_right.png', '33509_left.png', '33509_right.png', '33535_left.png', '33546_left.png', '33574_left.png', '33602_left.png', '33623_left.png', '33623_right.png', '33659_right.png', '33681_right.png', '33687_right.png', '33689_left.png', '33699_right.png', '33706_left.png', '33711_left.png', '33711_right.png', '33876_right.png', '33889_left.png', '33891_left.png', '33919_right.png', '33963_right.png', '3397_left.png', '3397_right.png', '33996_left.png', '34008_left.png', '34008_right.png', '34029_left.png', '34078_left.png', '34078_right.png', '34109_right.png', '34113_right.png', '34147_left.png', '34187_right.png', '34198_right.png', '34203_right.png', '34222_left.png', '34222_right.png', '34302_right.png', '34304_left.png', '34304_right.png', '34340_right.png', '34350_left.png', '10030_left.png', '10030_right.png', '10085_left.png', '10085_right.png', '10169_right.png', '10150_right.png', '10177_left.png', '10177_right.png', '1020_left.png', '1020_right.png', '10221_right.png', '10220_left.png', '10232_right.png', '10233_right.png', '10233_left.png', '10234_left.png', '10234_right.png', '1027_left.png', '10269_left.png', '10297_right.png', '10320_right.png', '10334_left.png', '10356_right.png', '1036_left.png', '1036_right.png', '10384_left.png', '10426_left.png', '1043_left.png', '10468_right.png', '10545_right.png', '10551_left.png', '10551_right.png', '10567_right.png', '10594_right.png', '10657_left.png', '10672_left.png', '10657_right.png', '10672_right.png', '10758_left.png', '10737_right.png', '10762_left.png', '10758_right.png', '1077_left.png', '1077_right.png', '10787_left.png', '10787_right.png', '10790_right.png', '10808_left.png', '10822_left.png', '10812_left.png', '10822_right.png', '10853_left.png', '10853_right.png', '10925_right.png', '1098_left.png', '10996_right.png', '11005_left.png', '11007_left.png', '11007_right.png', '1100_left.png', '1100_right.png', '11053_left.png', '11053_right.png', '11101_left.png', '11057_left.png', '11113_right.png', '11159_right.png', '11161_left.png', '11161_right.png', '11162_left.png', '11163_right.png', '11183_right.png', '11263_right.png', '11263_left.png', '11308_right.png', '1139_left.png', '11315_left.png', '11421_right.png', '11425_right.png', '11427_right.png', '11437_left.png', '11443_left.png', '11446_left.png', '11495_right.png', '1145_left.png', '114_left.png', '114_right.png', '11500_left.png', '11500_right.png', '11505_left.png', '11505_right.png', '11516_left.png', '11526_left.png', '11526_right.png', '11547_left.png', '11547_right.png', '11618_right.png', '11724_left.png', '11736_left.png', '11738_left.png', '11740_left.png', '11758_left.png', '11758_right.png', '11779_left.png', '11815_right.png', '11818_left.png', '11818_right.png', '11819_left.png', '11819_right.png', '11915_left.png', '11929_left.png', '11929_right.png', '11937_right.png', '11959_left.png', '11959_right.png', '11980_left.png', '11980_right.png', '11983_left.png', '11995_left.png', '11995_right.png', '12018_right.png', '12042_right.png', '12063_left.png', '12070_right.png', '12114_left.png', '12098_right.png', '12139_left.png', '12139_right.png', '12170_left.png', '12144_left.png', '12170_right.png', '12227_left.png', '12227_right.png', '12233_left.png', '12241_left.png', '1226_left.png', '12268_right.png', '12278_left.png', '12278_right.png', '12311_right.png', '12311_left.png', '12372_left.png', '12386_right.png', '12392_left.png', '12397_left.png', '12397_right.png', '12444_left.png', '12452_left.png', '12496_right.png', '12514_right.png', '12515_right.png', '12547_left.png', '12547_right.png', '12554_left.png', '12563_left.png', '12554_right.png', '12577_left.png', '12577_right.png', '1266_left.png', '12614_right.png', '1266_right.png', '12676_left.png', '12675_right.png', '12676_right.png', '12683_left.png', '12683_right.png', '1277_left.png', '12795_left.png', '12798_right.png', '12831_left.png', '12810_left.png', '1283_left.png', '12872_right.png', '12903_right.png', '12878_left.png', '12922_left.png', '12924_left.png', '12990_right.png', '13027_right.png', '13031_left.png', '13031_right.png', '13043_left.png', '13043_right.png', '1309_left.png', '13126_left.png', '13158_left.png', '13169_left.png', '13209_left.png', '13229_left.png', '13209_right.png', '13229_right.png', '13267_left.png', '13333_left.png', '13305_right.png', '13341_right.png', '13333_right.png', '13345_right.png', '13376_left.png', '13376_right.png', '1343_left.png', '1343_right.png', '13447_left.png', '13490_left.png', '13490_right.png', '13494_right.png', '13493_right.png', '13502_left.png', '13517_left.png', '13517_right.png', '13522_left.png', '13569_left.png', '13527_right.png', '13569_right.png', '13595_left.png', '13600_right.png', '13643_right.png', '13659_left.png', '13662_right.png', '1369_left.png', '13693_right.png', '1369_right.png', '13708_right.png', '13708_left.png', '13714_left.png', '13714_right.png', '13730_left.png', '13751_left.png', '1374_right.png', '13751_right.png', '13753_right.png', '13762_right.png', '13766_left.png', '13766_right.png', '13770_left.png', '13798_right.png', '13891_left.png', '13891_right.png', '13945_left.png', '13909_right.png', '13945_right.png', '13962_left.png', '13962_right.png', '13971_left.png', '14008_right.png', '13994_left.png', '14041_left.png', '1409_left.png', '14110_left.png', '14139_right.png', '14110_right.png', '14191_left.png', '14152_left.png', '14191_right.png', '14193_right.png', '14212_left.png', '14227_left.png', '14212_right.png', '14227_right.png', '14245_left.png', '14245_right.png', '14248_left.png', '14251_left.png', '14248_right.png', '14251_right.png', '14336_left.png', '14353_right.png', '14356_right.png', '14367_left.png', '14374_left.png', '14371_right.png', '14377_left.png', '14374_right.png', '14397_left.png', '14403_right.png', '14403_left.png', '14456_right.png', '14467_right.png', '14501_right.png', '14522_right.png', '14584_left.png', '1454_left.png', '14584_right.png', '14614_left.png', '14587_right.png', '14614_right.png', '14627_right.png', '14615_right.png', '14650_left.png', '14664_left.png', '14664_right.png', '14710_left.png', '14721_right.png', '14773_right.png', '14816_left.png', '14805_right.png', '14816_right.png', '14825_left.png', '14825_right.png', '14846_left.png', '14898_right.png', '14901_left.png', '14902_left.png', '14902_right.png', '14936_right.png', '14936_left.png', '14961_left.png', '14938_left.png', '14961_right.png', '14967_left.png', '14981_left.png', '15000_left.png', '14989_left.png', '15029_left.png', '15029_right.png', '15083_right.png', '15037_left.png', '15095_right.png', '15151_left.png', '15190_right.png', '15194_left.png', '1520_left.png', '1520_right.png', '15248_left.png', '15288_left.png', '15274_left.png', '15288_right.png', '15306_left.png', '1532_left.png', '15306_right.png', '15383_left.png', '15396_right.png', '1540_right.png', '1544_right.png', '15468_right.png', '15476_right.png', '15487_left.png', '15481_right.png', '15528_right.png', '15530_right.png', '15529_right.png', '15554_right.png', '15576_right.png', '15557_right.png', '15578_left.png', '15593_left.png', '15578_right.png', '15593_right.png', '15627_left.png', '15625_left.png', '15645_right.png', '15695_right.png', '15708_left.png', '1570_left.png', '15750_left.png', '15750_right.png', '15763_left.png', '15775_right.png', '15793_right.png', '15797_left.png', '15835_left.png', '15835_right.png', '15855_right.png', '15886_right.png', '15885_right.png', '15902_right.png', '1592_left.png', '1592_right.png', '15935_left.png', '15935_right.png', '15944_left.png', '15944_right.png', '15994_left.png', '15_left.png', '16042_left.png', '16042_right.png', '16076_left.png', '16095_right.png', '16197_left.png', '16170_left.png', '16197_right.png', '16249_right.png', '16223_right.png', '16268_right.png', '16280_right.png', '16280_left.png', '16287_right.png', '16289_left.png', '16289_right.png', '16290_left.png', '16341_right.png', '16386_left.png', '16350_right.png', '16439_right.png', '16458_right.png', '16458_left.png', '16488_left.png', '16488_right.png', '16509_left.png', '16515_left.png', '16515_right.png', '16520_left.png', '16524_left.png', '16524_right.png', '16545_left.png', '16545_right.png', '16558_left.png', '16576_left.png', '1658_left.png', '16612_right.png', '16628_left.png', '16628_right.png', '16641_left.png', '16641_right.png', '16658_right.png', '1666_left.png', '1666_right.png', '1669_right.png', '16672_right.png', '16741_left.png', '16754_right.png', '16778_right.png', '16808_left.png', '16818_left.png', '16818_right.png', '16835_right.png', '16857_left.png', '1689_right.png', '16857_right.png', '16917_right.png', '16941_left.png', '16941_right.png', '16963_right.png', '17028_right.png', '17009_left.png', '17030_right.png', '17037_right.png', '17089_left.png', '17089_right.png', '17113_left.png', '17113_right.png', '17182_right.png', '17191_right.png', '17202_left.png']\n"
          ],
          "name": "stdout"
        }
      ]
    },
    {
      "cell_type": "code",
      "metadata": {
        "id": "pIm-RSHEReVw"
      },
      "source": [
        ""
      ],
      "execution_count": null,
      "outputs": []
    },
    {
      "cell_type": "code",
      "metadata": {
        "id": "KWpuSx52tCtD"
      },
      "source": [
        "#os.removedirs(train_dir+'/.ipynb_checkpoints')"
      ],
      "execution_count": null,
      "outputs": []
    },
    {
      "cell_type": "code",
      "metadata": {
        "id": "G_s-9KUn4Fgm"
      },
      "source": [
        "#callback = tf.keras.callbacks.EarlyStopping(monitor='acc', patience=3)"
      ],
      "execution_count": 79,
      "outputs": []
    },
    {
      "cell_type": "code",
      "metadata": {
        "id": "FJRcwGrNiecx"
      },
      "source": [
        "def lr_rate(epoch,lr):\n",
        "    if epoch<10:\n",
        "        lr=0.001\n",
        "        return lr\n",
        "    elif epoch<=15:\n",
        "        lr=0.005\n",
        "        return lr\n",
        "    elif epoch<=30:\n",
        "        lr=0.001\n",
        "        return lr\n",
        "    else:\n",
        "        lr=lr*(epoch/(1+epoch))\n",
        "        return lr\n",
        "lr_callback=tf.keras.callbacks.LearningRateScheduler(lr_rate)\n",
        "## Below is some helper code that will allow you to add checkpoints to your model,\n",
        "## This will save the 'best' version of your model by comparing it to previous epochs of training\n",
        "\n",
        "## Note that you need to choose which metric to monitor for your model's 'best' performance if using this code. \n",
        "## The 'patience' parameter is set to 10, meaning that your model will train for ten epochs without seeing\n",
        "## improvement before quitting\n",
        "\n",
        "# Todo\n",
        "\n",
        "\n",
        "weight_path=\"{}_model.best.hdf5\".format('efn')\n",
        "checkpoint = ModelCheckpoint(weight_path, \n",
        "                             monitor= 'loss', \n",
        "                             verbose=1, \n",
        "                             save_best_only=True, \n",
        "                             mode= 'auto', \n",
        "                             save_weights_only = True)\n",
        "\n",
        "early = EarlyStopping(monitor= 'loss', \n",
        "                      mode= 'auto', \n",
        "                      patience=10)\n",
        "\n",
        "callbacks_list = [checkpoint, early, lr_callback]"
      ],
      "execution_count": 135,
      "outputs": []
    },
    {
      "cell_type": "code",
      "metadata": {
        "id": "t1lIZfQpLlmm"
      },
      "source": [
        ""
      ],
      "execution_count": 103,
      "outputs": []
    },
    {
      "cell_type": "code",
      "metadata": {
        "id": "rU-MSahbieZk"
      },
      "source": [
        "model = tf.keras.Sequential([\n",
        "        efn.EfficientNetB0(\n",
        "            input_shape=(224,224, 3),\n",
        "            weights='imagenet',\n",
        "            include_top=False\n",
        "        ),\n",
        "        tf.keras.layers.Flatten(),\n",
        "        #tf.keras.layers.GlobalAveragePooling2D(),\n",
        "        tf.keras.layers.Dense(256, activation='relu'),\n",
        "        tf.keras.layers.Dropout(0.25),\n",
        "        tf.keras.layers.BatchNormalization(),\n",
        "        tf.keras.layers.Dense(128, activation='relu'),\n",
        "        tf.keras.layers.Dropout(0.25),\n",
        "        tf.keras.layers.BatchNormalization(),\n",
        "\n",
        "        tf.keras.layers.Dense(5, activation='softmax')\n",
        "    ])\n",
        "\n",
        "    \n",
        "model.compile(optimizer=\"adam\",loss='categorical_crossentropy',metrics=['accuracy'])"
      ],
      "execution_count": 104,
      "outputs": []
    },
    {
      "cell_type": "code",
      "metadata": {
        "id": "1FzxQ8deyRN_"
      },
      "source": [
        ""
      ],
      "execution_count": 104,
      "outputs": []
    },
    {
      "cell_type": "code",
      "metadata": {
        "colab": {
          "base_uri": "https://localhost:8080/",
          "height": 367
        },
        "id": "BFpO0YJ1ieV9",
        "outputId": "15a77915-a00c-45b8-c143-7b2a9bf4490e"
      },
      "source": [
        "weight_path=\"{}_model.best.hdf5\".format('efn')\n",
        "efn_history=model.fit(train_gen,validation_data = val_gen,callbacks=callbacks_list,epochs=3,verbose=1)"
      ],
      "execution_count": 105,
      "outputs": [
        {
          "output_type": "stream",
          "text": [
            "Epoch 1/3\n",
            "44/80 [===============>..............] - ETA: 17s - loss: 2.6289 - accuracy: 0.2444"
          ],
          "name": "stdout"
        },
        {
          "output_type": "error",
          "ename": "KeyboardInterrupt",
          "evalue": "ignored",
          "traceback": [
            "\u001b[0;31m---------------------------------------------------------------------------\u001b[0m",
            "\u001b[0;31mKeyboardInterrupt\u001b[0m                         Traceback (most recent call last)",
            "\u001b[0;32m<ipython-input-105-77e77e88ee87>\u001b[0m in \u001b[0;36m<module>\u001b[0;34m()\u001b[0m\n\u001b[1;32m      1\u001b[0m \u001b[0mweight_path\u001b[0m\u001b[0;34m=\u001b[0m\u001b[0;34m\"{}_model.best.hdf5\"\u001b[0m\u001b[0;34m.\u001b[0m\u001b[0mformat\u001b[0m\u001b[0;34m(\u001b[0m\u001b[0;34m'efn'\u001b[0m\u001b[0;34m)\u001b[0m\u001b[0;34m\u001b[0m\u001b[0;34m\u001b[0m\u001b[0m\n\u001b[0;32m----> 2\u001b[0;31m \u001b[0mefn_history\u001b[0m\u001b[0;34m=\u001b[0m\u001b[0mmodel\u001b[0m\u001b[0;34m.\u001b[0m\u001b[0mfit\u001b[0m\u001b[0;34m(\u001b[0m\u001b[0mtrain_gen\u001b[0m\u001b[0;34m,\u001b[0m\u001b[0mvalidation_data\u001b[0m \u001b[0;34m=\u001b[0m \u001b[0mval_gen\u001b[0m\u001b[0;34m,\u001b[0m\u001b[0mcallbacks\u001b[0m\u001b[0;34m=\u001b[0m\u001b[0mcallbacks_list\u001b[0m\u001b[0;34m,\u001b[0m\u001b[0mepochs\u001b[0m\u001b[0;34m=\u001b[0m\u001b[0;36m3\u001b[0m\u001b[0;34m,\u001b[0m\u001b[0mverbose\u001b[0m\u001b[0;34m=\u001b[0m\u001b[0;36m1\u001b[0m\u001b[0;34m)\u001b[0m\u001b[0;34m\u001b[0m\u001b[0;34m\u001b[0m\u001b[0m\n\u001b[0m",
            "\u001b[0;32m/usr/local/lib/python3.7/dist-packages/tensorflow/python/keras/engine/training.py\u001b[0m in \u001b[0;36mfit\u001b[0;34m(self, x, y, batch_size, epochs, verbose, callbacks, validation_split, validation_data, shuffle, class_weight, sample_weight, initial_epoch, steps_per_epoch, validation_steps, validation_batch_size, validation_freq, max_queue_size, workers, use_multiprocessing)\u001b[0m\n\u001b[1;32m   1103\u001b[0m               \u001b[0mlogs\u001b[0m \u001b[0;34m=\u001b[0m \u001b[0mtmp_logs\u001b[0m  \u001b[0;31m# No error, now safe to assign to logs.\u001b[0m\u001b[0;34m\u001b[0m\u001b[0;34m\u001b[0m\u001b[0m\n\u001b[1;32m   1104\u001b[0m               \u001b[0mend_step\u001b[0m \u001b[0;34m=\u001b[0m \u001b[0mstep\u001b[0m \u001b[0;34m+\u001b[0m \u001b[0mdata_handler\u001b[0m\u001b[0;34m.\u001b[0m\u001b[0mstep_increment\u001b[0m\u001b[0;34m\u001b[0m\u001b[0;34m\u001b[0m\u001b[0m\n\u001b[0;32m-> 1105\u001b[0;31m               \u001b[0mcallbacks\u001b[0m\u001b[0;34m.\u001b[0m\u001b[0mon_train_batch_end\u001b[0m\u001b[0;34m(\u001b[0m\u001b[0mend_step\u001b[0m\u001b[0;34m,\u001b[0m \u001b[0mlogs\u001b[0m\u001b[0;34m)\u001b[0m\u001b[0;34m\u001b[0m\u001b[0;34m\u001b[0m\u001b[0m\n\u001b[0m\u001b[1;32m   1106\u001b[0m               \u001b[0;32mif\u001b[0m \u001b[0mself\u001b[0m\u001b[0;34m.\u001b[0m\u001b[0mstop_training\u001b[0m\u001b[0;34m:\u001b[0m\u001b[0;34m\u001b[0m\u001b[0;34m\u001b[0m\u001b[0m\n\u001b[1;32m   1107\u001b[0m                 \u001b[0;32mbreak\u001b[0m\u001b[0;34m\u001b[0m\u001b[0;34m\u001b[0m\u001b[0m\n",
            "\u001b[0;32m/usr/local/lib/python3.7/dist-packages/tensorflow/python/keras/callbacks.py\u001b[0m in \u001b[0;36mon_train_batch_end\u001b[0;34m(self, batch, logs)\u001b[0m\n\u001b[1;32m    452\u001b[0m     \"\"\"\n\u001b[1;32m    453\u001b[0m     \u001b[0;32mif\u001b[0m \u001b[0mself\u001b[0m\u001b[0;34m.\u001b[0m\u001b[0m_should_call_train_batch_hooks\u001b[0m\u001b[0;34m:\u001b[0m\u001b[0;34m\u001b[0m\u001b[0;34m\u001b[0m\u001b[0m\n\u001b[0;32m--> 454\u001b[0;31m       \u001b[0mself\u001b[0m\u001b[0;34m.\u001b[0m\u001b[0m_call_batch_hook\u001b[0m\u001b[0;34m(\u001b[0m\u001b[0mModeKeys\u001b[0m\u001b[0;34m.\u001b[0m\u001b[0mTRAIN\u001b[0m\u001b[0;34m,\u001b[0m \u001b[0;34m'end'\u001b[0m\u001b[0;34m,\u001b[0m \u001b[0mbatch\u001b[0m\u001b[0;34m,\u001b[0m \u001b[0mlogs\u001b[0m\u001b[0;34m=\u001b[0m\u001b[0mlogs\u001b[0m\u001b[0;34m)\u001b[0m\u001b[0;34m\u001b[0m\u001b[0;34m\u001b[0m\u001b[0m\n\u001b[0m\u001b[1;32m    455\u001b[0m \u001b[0;34m\u001b[0m\u001b[0m\n\u001b[1;32m    456\u001b[0m   \u001b[0;32mdef\u001b[0m \u001b[0mon_test_batch_begin\u001b[0m\u001b[0;34m(\u001b[0m\u001b[0mself\u001b[0m\u001b[0;34m,\u001b[0m \u001b[0mbatch\u001b[0m\u001b[0;34m,\u001b[0m \u001b[0mlogs\u001b[0m\u001b[0;34m=\u001b[0m\u001b[0;32mNone\u001b[0m\u001b[0;34m)\u001b[0m\u001b[0;34m:\u001b[0m\u001b[0;34m\u001b[0m\u001b[0;34m\u001b[0m\u001b[0m\n",
            "\u001b[0;32m/usr/local/lib/python3.7/dist-packages/tensorflow/python/keras/callbacks.py\u001b[0m in \u001b[0;36m_call_batch_hook\u001b[0;34m(self, mode, hook, batch, logs)\u001b[0m\n\u001b[1;32m    294\u001b[0m       \u001b[0mself\u001b[0m\u001b[0;34m.\u001b[0m\u001b[0m_call_batch_begin_hook\u001b[0m\u001b[0;34m(\u001b[0m\u001b[0mmode\u001b[0m\u001b[0;34m,\u001b[0m \u001b[0mbatch\u001b[0m\u001b[0;34m,\u001b[0m \u001b[0mlogs\u001b[0m\u001b[0;34m)\u001b[0m\u001b[0;34m\u001b[0m\u001b[0;34m\u001b[0m\u001b[0m\n\u001b[1;32m    295\u001b[0m     \u001b[0;32melif\u001b[0m \u001b[0mhook\u001b[0m \u001b[0;34m==\u001b[0m \u001b[0;34m'end'\u001b[0m\u001b[0;34m:\u001b[0m\u001b[0;34m\u001b[0m\u001b[0;34m\u001b[0m\u001b[0m\n\u001b[0;32m--> 296\u001b[0;31m       \u001b[0mself\u001b[0m\u001b[0;34m.\u001b[0m\u001b[0m_call_batch_end_hook\u001b[0m\u001b[0;34m(\u001b[0m\u001b[0mmode\u001b[0m\u001b[0;34m,\u001b[0m \u001b[0mbatch\u001b[0m\u001b[0;34m,\u001b[0m \u001b[0mlogs\u001b[0m\u001b[0;34m)\u001b[0m\u001b[0;34m\u001b[0m\u001b[0;34m\u001b[0m\u001b[0m\n\u001b[0m\u001b[1;32m    297\u001b[0m     \u001b[0;32melse\u001b[0m\u001b[0;34m:\u001b[0m\u001b[0;34m\u001b[0m\u001b[0;34m\u001b[0m\u001b[0m\n\u001b[1;32m    298\u001b[0m       \u001b[0;32mraise\u001b[0m \u001b[0mValueError\u001b[0m\u001b[0;34m(\u001b[0m\u001b[0;34m'Unrecognized hook: {}'\u001b[0m\u001b[0;34m.\u001b[0m\u001b[0mformat\u001b[0m\u001b[0;34m(\u001b[0m\u001b[0mhook\u001b[0m\u001b[0;34m)\u001b[0m\u001b[0;34m)\u001b[0m\u001b[0;34m\u001b[0m\u001b[0;34m\u001b[0m\u001b[0m\n",
            "\u001b[0;32m/usr/local/lib/python3.7/dist-packages/tensorflow/python/keras/callbacks.py\u001b[0m in \u001b[0;36m_call_batch_end_hook\u001b[0;34m(self, mode, batch, logs)\u001b[0m\n\u001b[1;32m    314\u001b[0m       \u001b[0mself\u001b[0m\u001b[0;34m.\u001b[0m\u001b[0m_batch_times\u001b[0m\u001b[0;34m.\u001b[0m\u001b[0mappend\u001b[0m\u001b[0;34m(\u001b[0m\u001b[0mbatch_time\u001b[0m\u001b[0;34m)\u001b[0m\u001b[0;34m\u001b[0m\u001b[0;34m\u001b[0m\u001b[0m\n\u001b[1;32m    315\u001b[0m \u001b[0;34m\u001b[0m\u001b[0m\n\u001b[0;32m--> 316\u001b[0;31m     \u001b[0mself\u001b[0m\u001b[0;34m.\u001b[0m\u001b[0m_call_batch_hook_helper\u001b[0m\u001b[0;34m(\u001b[0m\u001b[0mhook_name\u001b[0m\u001b[0;34m,\u001b[0m \u001b[0mbatch\u001b[0m\u001b[0;34m,\u001b[0m \u001b[0mlogs\u001b[0m\u001b[0;34m)\u001b[0m\u001b[0;34m\u001b[0m\u001b[0;34m\u001b[0m\u001b[0m\n\u001b[0m\u001b[1;32m    317\u001b[0m \u001b[0;34m\u001b[0m\u001b[0m\n\u001b[1;32m    318\u001b[0m     \u001b[0;32mif\u001b[0m \u001b[0mlen\u001b[0m\u001b[0;34m(\u001b[0m\u001b[0mself\u001b[0m\u001b[0;34m.\u001b[0m\u001b[0m_batch_times\u001b[0m\u001b[0;34m)\u001b[0m \u001b[0;34m>=\u001b[0m \u001b[0mself\u001b[0m\u001b[0;34m.\u001b[0m\u001b[0m_num_batches_for_timing_check\u001b[0m\u001b[0;34m:\u001b[0m\u001b[0;34m\u001b[0m\u001b[0;34m\u001b[0m\u001b[0m\n",
            "\u001b[0;32m/usr/local/lib/python3.7/dist-packages/tensorflow/python/keras/callbacks.py\u001b[0m in \u001b[0;36m_call_batch_hook_helper\u001b[0;34m(self, hook_name, batch, logs)\u001b[0m\n\u001b[1;32m    354\u001b[0m       \u001b[0mhook\u001b[0m \u001b[0;34m=\u001b[0m \u001b[0mgetattr\u001b[0m\u001b[0;34m(\u001b[0m\u001b[0mcallback\u001b[0m\u001b[0;34m,\u001b[0m \u001b[0mhook_name\u001b[0m\u001b[0;34m)\u001b[0m\u001b[0;34m\u001b[0m\u001b[0;34m\u001b[0m\u001b[0m\n\u001b[1;32m    355\u001b[0m       \u001b[0;32mif\u001b[0m \u001b[0mgetattr\u001b[0m\u001b[0;34m(\u001b[0m\u001b[0mcallback\u001b[0m\u001b[0;34m,\u001b[0m \u001b[0;34m'_supports_tf_logs'\u001b[0m\u001b[0;34m,\u001b[0m \u001b[0;32mFalse\u001b[0m\u001b[0;34m)\u001b[0m\u001b[0;34m:\u001b[0m\u001b[0;34m\u001b[0m\u001b[0;34m\u001b[0m\u001b[0m\n\u001b[0;32m--> 356\u001b[0;31m         \u001b[0mhook\u001b[0m\u001b[0;34m(\u001b[0m\u001b[0mbatch\u001b[0m\u001b[0;34m,\u001b[0m \u001b[0mlogs\u001b[0m\u001b[0;34m)\u001b[0m\u001b[0;34m\u001b[0m\u001b[0;34m\u001b[0m\u001b[0m\n\u001b[0m\u001b[1;32m    357\u001b[0m       \u001b[0;32melse\u001b[0m\u001b[0;34m:\u001b[0m\u001b[0;34m\u001b[0m\u001b[0;34m\u001b[0m\u001b[0m\n\u001b[1;32m    358\u001b[0m         \u001b[0;32mif\u001b[0m \u001b[0mnumpy_logs\u001b[0m \u001b[0;32mis\u001b[0m \u001b[0;32mNone\u001b[0m\u001b[0;34m:\u001b[0m  \u001b[0;31m# Only convert once.\u001b[0m\u001b[0;34m\u001b[0m\u001b[0;34m\u001b[0m\u001b[0m\n",
            "\u001b[0;32m/usr/local/lib/python3.7/dist-packages/tensorflow/python/keras/callbacks.py\u001b[0m in \u001b[0;36mon_train_batch_end\u001b[0;34m(self, batch, logs)\u001b[0m\n\u001b[1;32m   1018\u001b[0m \u001b[0;34m\u001b[0m\u001b[0m\n\u001b[1;32m   1019\u001b[0m   \u001b[0;32mdef\u001b[0m \u001b[0mon_train_batch_end\u001b[0m\u001b[0;34m(\u001b[0m\u001b[0mself\u001b[0m\u001b[0;34m,\u001b[0m \u001b[0mbatch\u001b[0m\u001b[0;34m,\u001b[0m \u001b[0mlogs\u001b[0m\u001b[0;34m=\u001b[0m\u001b[0;32mNone\u001b[0m\u001b[0;34m)\u001b[0m\u001b[0;34m:\u001b[0m\u001b[0;34m\u001b[0m\u001b[0;34m\u001b[0m\u001b[0m\n\u001b[0;32m-> 1020\u001b[0;31m     \u001b[0mself\u001b[0m\u001b[0;34m.\u001b[0m\u001b[0m_batch_update_progbar\u001b[0m\u001b[0;34m(\u001b[0m\u001b[0mbatch\u001b[0m\u001b[0;34m,\u001b[0m \u001b[0mlogs\u001b[0m\u001b[0;34m)\u001b[0m\u001b[0;34m\u001b[0m\u001b[0;34m\u001b[0m\u001b[0m\n\u001b[0m\u001b[1;32m   1021\u001b[0m \u001b[0;34m\u001b[0m\u001b[0m\n\u001b[1;32m   1022\u001b[0m   \u001b[0;32mdef\u001b[0m \u001b[0mon_test_batch_end\u001b[0m\u001b[0;34m(\u001b[0m\u001b[0mself\u001b[0m\u001b[0;34m,\u001b[0m \u001b[0mbatch\u001b[0m\u001b[0;34m,\u001b[0m \u001b[0mlogs\u001b[0m\u001b[0;34m=\u001b[0m\u001b[0;32mNone\u001b[0m\u001b[0;34m)\u001b[0m\u001b[0;34m:\u001b[0m\u001b[0;34m\u001b[0m\u001b[0;34m\u001b[0m\u001b[0m\n",
            "\u001b[0;32m/usr/local/lib/python3.7/dist-packages/tensorflow/python/keras/callbacks.py\u001b[0m in \u001b[0;36m_batch_update_progbar\u001b[0;34m(self, batch, logs)\u001b[0m\n\u001b[1;32m   1082\u001b[0m     \u001b[0;32mif\u001b[0m \u001b[0mself\u001b[0m\u001b[0;34m.\u001b[0m\u001b[0mverbose\u001b[0m \u001b[0;34m==\u001b[0m \u001b[0;36m1\u001b[0m\u001b[0;34m:\u001b[0m\u001b[0;34m\u001b[0m\u001b[0;34m\u001b[0m\u001b[0m\n\u001b[1;32m   1083\u001b[0m       \u001b[0;31m# Only block async when verbose = 1.\u001b[0m\u001b[0;34m\u001b[0m\u001b[0;34m\u001b[0m\u001b[0;34m\u001b[0m\u001b[0m\n\u001b[0;32m-> 1084\u001b[0;31m       \u001b[0mlogs\u001b[0m \u001b[0;34m=\u001b[0m \u001b[0mtf_utils\u001b[0m\u001b[0;34m.\u001b[0m\u001b[0mto_numpy_or_python_type\u001b[0m\u001b[0;34m(\u001b[0m\u001b[0mlogs\u001b[0m\u001b[0;34m)\u001b[0m\u001b[0;34m\u001b[0m\u001b[0;34m\u001b[0m\u001b[0m\n\u001b[0m\u001b[1;32m   1085\u001b[0m       \u001b[0mself\u001b[0m\u001b[0;34m.\u001b[0m\u001b[0mprogbar\u001b[0m\u001b[0;34m.\u001b[0m\u001b[0mupdate\u001b[0m\u001b[0;34m(\u001b[0m\u001b[0mself\u001b[0m\u001b[0;34m.\u001b[0m\u001b[0mseen\u001b[0m\u001b[0;34m,\u001b[0m \u001b[0mlist\u001b[0m\u001b[0;34m(\u001b[0m\u001b[0mlogs\u001b[0m\u001b[0;34m.\u001b[0m\u001b[0mitems\u001b[0m\u001b[0;34m(\u001b[0m\u001b[0;34m)\u001b[0m\u001b[0;34m)\u001b[0m\u001b[0;34m,\u001b[0m \u001b[0mfinalize\u001b[0m\u001b[0;34m=\u001b[0m\u001b[0;32mFalse\u001b[0m\u001b[0;34m)\u001b[0m\u001b[0;34m\u001b[0m\u001b[0;34m\u001b[0m\u001b[0m\n\u001b[1;32m   1086\u001b[0m \u001b[0;34m\u001b[0m\u001b[0m\n",
            "\u001b[0;32m/usr/local/lib/python3.7/dist-packages/tensorflow/python/keras/utils/tf_utils.py\u001b[0m in \u001b[0;36mto_numpy_or_python_type\u001b[0;34m(tensors)\u001b[0m\n\u001b[1;32m    512\u001b[0m     \u001b[0;32mreturn\u001b[0m \u001b[0mt\u001b[0m  \u001b[0;31m# Don't turn ragged or sparse tensors to NumPy.\u001b[0m\u001b[0;34m\u001b[0m\u001b[0;34m\u001b[0m\u001b[0m\n\u001b[1;32m    513\u001b[0m \u001b[0;34m\u001b[0m\u001b[0m\n\u001b[0;32m--> 514\u001b[0;31m   \u001b[0;32mreturn\u001b[0m \u001b[0mnest\u001b[0m\u001b[0;34m.\u001b[0m\u001b[0mmap_structure\u001b[0m\u001b[0;34m(\u001b[0m\u001b[0m_to_single_numpy_or_python_type\u001b[0m\u001b[0;34m,\u001b[0m \u001b[0mtensors\u001b[0m\u001b[0;34m)\u001b[0m\u001b[0;34m\u001b[0m\u001b[0;34m\u001b[0m\u001b[0m\n\u001b[0m\u001b[1;32m    515\u001b[0m \u001b[0;34m\u001b[0m\u001b[0m\n\u001b[1;32m    516\u001b[0m \u001b[0;34m\u001b[0m\u001b[0m\n",
            "\u001b[0;32m/usr/local/lib/python3.7/dist-packages/tensorflow/python/util/nest.py\u001b[0m in \u001b[0;36mmap_structure\u001b[0;34m(func, *structure, **kwargs)\u001b[0m\n\u001b[1;32m    657\u001b[0m \u001b[0;34m\u001b[0m\u001b[0m\n\u001b[1;32m    658\u001b[0m   return pack_sequence_as(\n\u001b[0;32m--> 659\u001b[0;31m       \u001b[0mstructure\u001b[0m\u001b[0;34m[\u001b[0m\u001b[0;36m0\u001b[0m\u001b[0;34m]\u001b[0m\u001b[0;34m,\u001b[0m \u001b[0;34m[\u001b[0m\u001b[0mfunc\u001b[0m\u001b[0;34m(\u001b[0m\u001b[0;34m*\u001b[0m\u001b[0mx\u001b[0m\u001b[0;34m)\u001b[0m \u001b[0;32mfor\u001b[0m \u001b[0mx\u001b[0m \u001b[0;32min\u001b[0m \u001b[0mentries\u001b[0m\u001b[0;34m]\u001b[0m\u001b[0;34m,\u001b[0m\u001b[0;34m\u001b[0m\u001b[0;34m\u001b[0m\u001b[0m\n\u001b[0m\u001b[1;32m    660\u001b[0m       expand_composites=expand_composites)\n\u001b[1;32m    661\u001b[0m \u001b[0;34m\u001b[0m\u001b[0m\n",
            "\u001b[0;32m/usr/local/lib/python3.7/dist-packages/tensorflow/python/util/nest.py\u001b[0m in \u001b[0;36m<listcomp>\u001b[0;34m(.0)\u001b[0m\n\u001b[1;32m    657\u001b[0m \u001b[0;34m\u001b[0m\u001b[0m\n\u001b[1;32m    658\u001b[0m   return pack_sequence_as(\n\u001b[0;32m--> 659\u001b[0;31m       \u001b[0mstructure\u001b[0m\u001b[0;34m[\u001b[0m\u001b[0;36m0\u001b[0m\u001b[0;34m]\u001b[0m\u001b[0;34m,\u001b[0m \u001b[0;34m[\u001b[0m\u001b[0mfunc\u001b[0m\u001b[0;34m(\u001b[0m\u001b[0;34m*\u001b[0m\u001b[0mx\u001b[0m\u001b[0;34m)\u001b[0m \u001b[0;32mfor\u001b[0m \u001b[0mx\u001b[0m \u001b[0;32min\u001b[0m \u001b[0mentries\u001b[0m\u001b[0;34m]\u001b[0m\u001b[0;34m,\u001b[0m\u001b[0;34m\u001b[0m\u001b[0;34m\u001b[0m\u001b[0m\n\u001b[0m\u001b[1;32m    660\u001b[0m       expand_composites=expand_composites)\n\u001b[1;32m    661\u001b[0m \u001b[0;34m\u001b[0m\u001b[0m\n",
            "\u001b[0;32m/usr/local/lib/python3.7/dist-packages/tensorflow/python/keras/utils/tf_utils.py\u001b[0m in \u001b[0;36m_to_single_numpy_or_python_type\u001b[0;34m(t)\u001b[0m\n\u001b[1;32m    508\u001b[0m   \u001b[0;32mdef\u001b[0m \u001b[0m_to_single_numpy_or_python_type\u001b[0m\u001b[0;34m(\u001b[0m\u001b[0mt\u001b[0m\u001b[0;34m)\u001b[0m\u001b[0;34m:\u001b[0m\u001b[0;34m\u001b[0m\u001b[0;34m\u001b[0m\u001b[0m\n\u001b[1;32m    509\u001b[0m     \u001b[0;32mif\u001b[0m \u001b[0misinstance\u001b[0m\u001b[0;34m(\u001b[0m\u001b[0mt\u001b[0m\u001b[0;34m,\u001b[0m \u001b[0mops\u001b[0m\u001b[0;34m.\u001b[0m\u001b[0mTensor\u001b[0m\u001b[0;34m)\u001b[0m\u001b[0;34m:\u001b[0m\u001b[0;34m\u001b[0m\u001b[0;34m\u001b[0m\u001b[0m\n\u001b[0;32m--> 510\u001b[0;31m       \u001b[0mx\u001b[0m \u001b[0;34m=\u001b[0m \u001b[0mt\u001b[0m\u001b[0;34m.\u001b[0m\u001b[0mnumpy\u001b[0m\u001b[0;34m(\u001b[0m\u001b[0;34m)\u001b[0m\u001b[0;34m\u001b[0m\u001b[0;34m\u001b[0m\u001b[0m\n\u001b[0m\u001b[1;32m    511\u001b[0m       \u001b[0;32mreturn\u001b[0m \u001b[0mx\u001b[0m\u001b[0;34m.\u001b[0m\u001b[0mitem\u001b[0m\u001b[0;34m(\u001b[0m\u001b[0;34m)\u001b[0m \u001b[0;32mif\u001b[0m \u001b[0mnp\u001b[0m\u001b[0;34m.\u001b[0m\u001b[0mndim\u001b[0m\u001b[0;34m(\u001b[0m\u001b[0mx\u001b[0m\u001b[0;34m)\u001b[0m \u001b[0;34m==\u001b[0m \u001b[0;36m0\u001b[0m \u001b[0;32melse\u001b[0m \u001b[0mx\u001b[0m\u001b[0;34m\u001b[0m\u001b[0;34m\u001b[0m\u001b[0m\n\u001b[1;32m    512\u001b[0m     \u001b[0;32mreturn\u001b[0m \u001b[0mt\u001b[0m  \u001b[0;31m# Don't turn ragged or sparse tensors to NumPy.\u001b[0m\u001b[0;34m\u001b[0m\u001b[0;34m\u001b[0m\u001b[0m\n",
            "\u001b[0;32m/usr/local/lib/python3.7/dist-packages/tensorflow/python/framework/ops.py\u001b[0m in \u001b[0;36mnumpy\u001b[0;34m(self)\u001b[0m\n\u001b[1;32m   1069\u001b[0m     \"\"\"\n\u001b[1;32m   1070\u001b[0m     \u001b[0;31m# TODO(slebedev): Consider avoiding a copy for non-CPU or remote tensors.\u001b[0m\u001b[0;34m\u001b[0m\u001b[0;34m\u001b[0m\u001b[0;34m\u001b[0m\u001b[0m\n\u001b[0;32m-> 1071\u001b[0;31m     \u001b[0mmaybe_arr\u001b[0m \u001b[0;34m=\u001b[0m \u001b[0mself\u001b[0m\u001b[0;34m.\u001b[0m\u001b[0m_numpy\u001b[0m\u001b[0;34m(\u001b[0m\u001b[0;34m)\u001b[0m  \u001b[0;31m# pylint: disable=protected-access\u001b[0m\u001b[0;34m\u001b[0m\u001b[0;34m\u001b[0m\u001b[0m\n\u001b[0m\u001b[1;32m   1072\u001b[0m     \u001b[0;32mreturn\u001b[0m \u001b[0mmaybe_arr\u001b[0m\u001b[0;34m.\u001b[0m\u001b[0mcopy\u001b[0m\u001b[0;34m(\u001b[0m\u001b[0;34m)\u001b[0m \u001b[0;32mif\u001b[0m \u001b[0misinstance\u001b[0m\u001b[0;34m(\u001b[0m\u001b[0mmaybe_arr\u001b[0m\u001b[0;34m,\u001b[0m \u001b[0mnp\u001b[0m\u001b[0;34m.\u001b[0m\u001b[0mndarray\u001b[0m\u001b[0;34m)\u001b[0m \u001b[0;32melse\u001b[0m \u001b[0mmaybe_arr\u001b[0m\u001b[0;34m\u001b[0m\u001b[0;34m\u001b[0m\u001b[0m\n\u001b[1;32m   1073\u001b[0m \u001b[0;34m\u001b[0m\u001b[0m\n",
            "\u001b[0;32m/usr/local/lib/python3.7/dist-packages/tensorflow/python/framework/ops.py\u001b[0m in \u001b[0;36m_numpy\u001b[0;34m(self)\u001b[0m\n\u001b[1;32m   1035\u001b[0m   \u001b[0;32mdef\u001b[0m \u001b[0m_numpy\u001b[0m\u001b[0;34m(\u001b[0m\u001b[0mself\u001b[0m\u001b[0;34m)\u001b[0m\u001b[0;34m:\u001b[0m\u001b[0;34m\u001b[0m\u001b[0;34m\u001b[0m\u001b[0m\n\u001b[1;32m   1036\u001b[0m     \u001b[0;32mtry\u001b[0m\u001b[0;34m:\u001b[0m\u001b[0;34m\u001b[0m\u001b[0;34m\u001b[0m\u001b[0m\n\u001b[0;32m-> 1037\u001b[0;31m       \u001b[0;32mreturn\u001b[0m \u001b[0mself\u001b[0m\u001b[0;34m.\u001b[0m\u001b[0m_numpy_internal\u001b[0m\u001b[0;34m(\u001b[0m\u001b[0;34m)\u001b[0m\u001b[0;34m\u001b[0m\u001b[0;34m\u001b[0m\u001b[0m\n\u001b[0m\u001b[1;32m   1038\u001b[0m     \u001b[0;32mexcept\u001b[0m \u001b[0mcore\u001b[0m\u001b[0;34m.\u001b[0m\u001b[0m_NotOkStatusException\u001b[0m \u001b[0;32mas\u001b[0m \u001b[0me\u001b[0m\u001b[0;34m:\u001b[0m  \u001b[0;31m# pylint: disable=protected-access\u001b[0m\u001b[0;34m\u001b[0m\u001b[0;34m\u001b[0m\u001b[0m\n\u001b[1;32m   1039\u001b[0m       \u001b[0msix\u001b[0m\u001b[0;34m.\u001b[0m\u001b[0mraise_from\u001b[0m\u001b[0;34m(\u001b[0m\u001b[0mcore\u001b[0m\u001b[0;34m.\u001b[0m\u001b[0m_status_to_exception\u001b[0m\u001b[0;34m(\u001b[0m\u001b[0me\u001b[0m\u001b[0;34m.\u001b[0m\u001b[0mcode\u001b[0m\u001b[0;34m,\u001b[0m \u001b[0me\u001b[0m\u001b[0;34m.\u001b[0m\u001b[0mmessage\u001b[0m\u001b[0;34m)\u001b[0m\u001b[0;34m,\u001b[0m \u001b[0;32mNone\u001b[0m\u001b[0;34m)\u001b[0m  \u001b[0;31m# pylint: disable=protected-access\u001b[0m\u001b[0;34m\u001b[0m\u001b[0;34m\u001b[0m\u001b[0m\n",
            "\u001b[0;31mKeyboardInterrupt\u001b[0m: "
          ]
        }
      ]
    },
    {
      "cell_type": "code",
      "metadata": {
        "id": "VQerrAv6i9Jk"
      },
      "source": [
        ""
      ],
      "execution_count": null,
      "outputs": []
    },
    {
      "cell_type": "code",
      "metadata": {
        "id": "J_nrPjLCMfv4"
      },
      "source": [
        "def load_pretrained_model():\n",
        "    \n",
        "    model = VGG16(include_top=True, weights='imagenet')\n",
        "    transfer_layer = model.get_layer('block5_pool')\n",
        "    vgg_model = Model(inputs = model.input, outputs = transfer_layer.output)\n",
        "    \n",
        "    # Todo\n",
        "    for layer in vgg_model.layers[0:17]:\n",
        "        layer.trainable = False\n",
        "    \n",
        "    return vgg_model"
      ],
      "execution_count": 106,
      "outputs": []
    },
    {
      "cell_type": "code",
      "metadata": {
        "id": "QcNXLP1kMfg1"
      },
      "source": [
        "def build_my_model():\n",
        "    \n",
        "    my_model = Sequential()\n",
        "    # ....add your pre-trained model, and then whatever additional layers you think you might\n",
        "    # want for fine-tuning (Flatteen, Dense, Dropout, etc.)\n",
        "    vgg_base = load_pretrained_model()\n",
        "    my_model.add(vgg_base)\n",
        "    my_model.add(Flatten())\n",
        "    \n",
        "\n",
        "    # my_model.add(Dense(1024, activation='relu'))\n",
        "    # my_model.add(Dropout(0.5))\n",
        "    #model.add(GlobalAveragePooling2D())\n",
        "    model.add(Dense(256, activation='relu'))\n",
        "    model.add(Dropout(.25))\n",
        "    #model.add(BatchNormalization())\n",
        "    model.add(Dense(128, activation='relu'))\n",
        "    model.add(Dropout(.25))\n",
        "    #model.add(BatchNormalization())\n",
        "    #model.add(Dense(num_classes, activation='softmax'))\n",
        "    my_model.add(Dense(5, activation='softmax'))\n",
        "    \n",
        "    # if you want to compile your model within this function, consider which layers of your pre-trained model, \n",
        "    # you want to freeze before you compile \n",
        "    \n",
        "    \n",
        "    # also make sure you set your optimizer, loss function, and metrics to monitor\n",
        "    my_model.compile(optimizer='adam', \n",
        "                  loss='categorical_crossentropy',\n",
        "                  metrics=['accuracy'])\n",
        "    # Todo\n",
        "    \n",
        "    return my_model\n"
      ],
      "execution_count": 115,
      "outputs": []
    },
    {
      "cell_type": "code",
      "metadata": {
        "id": "NqeJioYIMfRo"
      },
      "source": [
        ""
      ],
      "execution_count": 115,
      "outputs": []
    },
    {
      "cell_type": "code",
      "metadata": {
        "id": "sDLSmjl8MfFK"
      },
      "source": [
        "my_model = build_my_model()"
      ],
      "execution_count": 116,
      "outputs": []
    },
    {
      "cell_type": "code",
      "metadata": {
        "colab": {
          "base_uri": "https://localhost:8080/"
        },
        "id": "JG3EzwmDMe1b",
        "outputId": "2820cf56-f690-4739-edc2-05ef7138e466"
      },
      "source": [
        "weight_path=\"{}_model.best.hdf5\".format('ded_vgg')\n",
        "vgg_history = my_model.fit(train_gen, \n",
        "                          validation_data = val_gen, \n",
        "                          epochs = 3, \n",
        "                         callbacks = callbacks_list)"
      ],
      "execution_count": 118,
      "outputs": [
        {
          "output_type": "stream",
          "text": [
            "Epoch 1/3\n",
            "80/80 [==============================] - 42s 515ms/step - loss: 1362.5483 - accuracy: 0.2522 - val_loss: 5.0257 - val_accuracy: 0.0000e+00\n",
            "\n",
            "Epoch 00001: loss did not improve from 1.87144\n",
            "Epoch 2/3\n",
            "80/80 [==============================] - 41s 507ms/step - loss: 1.4815 - accuracy: 0.2293 - val_loss: 5.9615 - val_accuracy: 0.0000e+00\n",
            "\n",
            "Epoch 00002: loss improved from 1.87144 to 1.60939, saving model to efn_model.best.hdf5\n",
            "Epoch 3/3\n",
            "80/80 [==============================] - 41s 509ms/step - loss: 1.4497 - accuracy: 0.2509 - val_loss: 7.7835 - val_accuracy: 0.0000e+00\n",
            "\n",
            "Epoch 00003: loss did not improve from 1.60939\n"
          ],
          "name": "stdout"
        }
      ]
    },
    {
      "cell_type": "code",
      "metadata": {
        "colab": {
          "base_uri": "https://localhost:8080/"
        },
        "id": "LFpm23L1M-Ka",
        "outputId": "5c8fa651-075e-45b1-cf2b-ae4d5fe687c7"
      },
      "source": [
        "val.level.value_counts()"
      ],
      "execution_count": 147,
      "outputs": [
        {
          "output_type": "execute_result",
          "data": {
            "text/plain": [
              "0    2581\n",
              "2     529\n",
              "1     245\n",
              "3      87\n",
              "4      71\n",
              "Name: level, dtype: int64"
            ]
          },
          "metadata": {
            "tags": []
          },
          "execution_count": 147
        }
      ]
    },
    {
      "cell_type": "code",
      "metadata": {
        "id": "Mzf4mSinvNtZ"
      },
      "source": [
        ""
      ],
      "execution_count": null,
      "outputs": []
    },
    {
      "cell_type": "code",
      "metadata": {
        "id": "HcMnkhogvNiV"
      },
      "source": [
        ""
      ],
      "execution_count": null,
      "outputs": []
    },
    {
      "cell_type": "code",
      "metadata": {
        "id": "g-gmQeS9vNYL"
      },
      "source": [
        ""
      ],
      "execution_count": null,
      "outputs": []
    },
    {
      "cell_type": "code",
      "metadata": {
        "id": "tqU3f9nQM8pl"
      },
      "source": [
        "num_classes = 5"
      ],
      "execution_count": 120,
      "outputs": []
    },
    {
      "cell_type": "code",
      "metadata": {
        "id": "1PDOOZtwVDJP"
      },
      "source": [
        "resnet_model = ResNet50(weights='imagenet', include_top=False, input_shape=(224, 224, 3))\n",
        "\n",
        "for layer in resnet_model.layers:\n",
        "    if isinstance(layer, BatchNormalization):\n",
        "        layer.trainable = True\n",
        "    else:\n",
        "        layer.trainable = False\n",
        "\n",
        "model = Sequential()\n",
        "# model.add(UpSampling2D())\n",
        "# model.add(UpSampling2D())\n",
        "# model.add(UpSampling2D())\n",
        "model.add(resnet_model)\n",
        "#model.add(Flatten())\n",
        "model.add(GlobalAveragePooling2D())\n",
        "model.add(Dense(256, activation='relu'))\n",
        "model.add(Dropout(.25))\n",
        "model.add(BatchNormalization())\n",
        "model.add(Dense(128, activation='relu'))\n",
        "model.add(Dropout(.25))\n",
        "model.add(BatchNormalization())\n",
        "model.add(Dense(num_classes, activation='softmax'))\n",
        "\n",
        "\n",
        "model.compile(loss='categorical_crossentropy',optimizer='adam',metrics=['accuracy'])\n"
      ],
      "execution_count": 130,
      "outputs": []
    },
    {
      "cell_type": "code",
      "metadata": {
        "colab": {
          "base_uri": "https://localhost:8080/",
          "height": 438
        },
        "id": "AHCFTfNpVC9Z",
        "outputId": "fc3ab96d-b713-4959-860b-009631ab12a2"
      },
      "source": [
        "weight_path=\"{}_model.best.hdf5\".format('ded_resnet')\n",
        "history = model.fit(train_gen, epochs=100, validation_data=test_gen)#, callbacks=callbacks_list)"
      ],
      "execution_count": 134,
      "outputs": [
        {
          "output_type": "stream",
          "text": [
            "Epoch 1/5\n",
            "100/100 [==============================] - 46s 460ms/step - loss: 1.7117 - accuracy: 0.2465\n",
            "Epoch 2/5\n",
            "100/100 [==============================] - 46s 458ms/step - loss: 1.6785 - accuracy: 0.2524\n",
            "Epoch 3/5\n",
            " 38/100 [==========>...................] - ETA: 28s - loss: 1.6811 - accuracy: 0.2229"
          ],
          "name": "stdout"
        },
        {
          "output_type": "error",
          "ename": "KeyboardInterrupt",
          "evalue": "ignored",
          "traceback": [
            "\u001b[0;31m---------------------------------------------------------------------------\u001b[0m",
            "\u001b[0;31mKeyboardInterrupt\u001b[0m                         Traceback (most recent call last)",
            "\u001b[0;32m<ipython-input-134-fc005a3e9c5e>\u001b[0m in \u001b[0;36m<module>\u001b[0;34m()\u001b[0m\n\u001b[1;32m      1\u001b[0m \u001b[0mweight_path\u001b[0m\u001b[0;34m=\u001b[0m\u001b[0;34m\"{}_model.best.hdf5\"\u001b[0m\u001b[0;34m.\u001b[0m\u001b[0mformat\u001b[0m\u001b[0;34m(\u001b[0m\u001b[0;34m'ded_resnet'\u001b[0m\u001b[0;34m)\u001b[0m\u001b[0;34m\u001b[0m\u001b[0;34m\u001b[0m\u001b[0m\n\u001b[0;32m----> 2\u001b[0;31m \u001b[0mhistory\u001b[0m \u001b[0;34m=\u001b[0m \u001b[0mmodel\u001b[0m\u001b[0;34m.\u001b[0m\u001b[0mfit\u001b[0m\u001b[0;34m(\u001b[0m\u001b[0mtrain_gen\u001b[0m\u001b[0;34m,\u001b[0m \u001b[0mepochs\u001b[0m\u001b[0;34m=\u001b[0m\u001b[0;36m5\u001b[0m\u001b[0;34m)\u001b[0m\u001b[0;31m#, validation_data=test_gen)#, callbacks=callbacks_list)\u001b[0m\u001b[0;34m\u001b[0m\u001b[0;34m\u001b[0m\u001b[0m\n\u001b[0m",
            "\u001b[0;32m/usr/local/lib/python3.7/dist-packages/tensorflow/python/keras/engine/training.py\u001b[0m in \u001b[0;36mfit\u001b[0;34m(self, x, y, batch_size, epochs, verbose, callbacks, validation_split, validation_data, shuffle, class_weight, sample_weight, initial_epoch, steps_per_epoch, validation_steps, validation_batch_size, validation_freq, max_queue_size, workers, use_multiprocessing)\u001b[0m\n\u001b[1;32m   1098\u001b[0m                 _r=1):\n\u001b[1;32m   1099\u001b[0m               \u001b[0mcallbacks\u001b[0m\u001b[0;34m.\u001b[0m\u001b[0mon_train_batch_begin\u001b[0m\u001b[0;34m(\u001b[0m\u001b[0mstep\u001b[0m\u001b[0;34m)\u001b[0m\u001b[0;34m\u001b[0m\u001b[0;34m\u001b[0m\u001b[0m\n\u001b[0;32m-> 1100\u001b[0;31m               \u001b[0mtmp_logs\u001b[0m \u001b[0;34m=\u001b[0m \u001b[0mself\u001b[0m\u001b[0;34m.\u001b[0m\u001b[0mtrain_function\u001b[0m\u001b[0;34m(\u001b[0m\u001b[0miterator\u001b[0m\u001b[0;34m)\u001b[0m\u001b[0;34m\u001b[0m\u001b[0;34m\u001b[0m\u001b[0m\n\u001b[0m\u001b[1;32m   1101\u001b[0m               \u001b[0;32mif\u001b[0m \u001b[0mdata_handler\u001b[0m\u001b[0;34m.\u001b[0m\u001b[0mshould_sync\u001b[0m\u001b[0;34m:\u001b[0m\u001b[0;34m\u001b[0m\u001b[0;34m\u001b[0m\u001b[0m\n\u001b[1;32m   1102\u001b[0m                 \u001b[0mcontext\u001b[0m\u001b[0;34m.\u001b[0m\u001b[0masync_wait\u001b[0m\u001b[0;34m(\u001b[0m\u001b[0;34m)\u001b[0m\u001b[0;34m\u001b[0m\u001b[0;34m\u001b[0m\u001b[0m\n",
            "\u001b[0;32m/usr/local/lib/python3.7/dist-packages/tensorflow/python/eager/def_function.py\u001b[0m in \u001b[0;36m__call__\u001b[0;34m(self, *args, **kwds)\u001b[0m\n\u001b[1;32m    826\u001b[0m     \u001b[0mtracing_count\u001b[0m \u001b[0;34m=\u001b[0m \u001b[0mself\u001b[0m\u001b[0;34m.\u001b[0m\u001b[0mexperimental_get_tracing_count\u001b[0m\u001b[0;34m(\u001b[0m\u001b[0;34m)\u001b[0m\u001b[0;34m\u001b[0m\u001b[0;34m\u001b[0m\u001b[0m\n\u001b[1;32m    827\u001b[0m     \u001b[0;32mwith\u001b[0m \u001b[0mtrace\u001b[0m\u001b[0;34m.\u001b[0m\u001b[0mTrace\u001b[0m\u001b[0;34m(\u001b[0m\u001b[0mself\u001b[0m\u001b[0;34m.\u001b[0m\u001b[0m_name\u001b[0m\u001b[0;34m)\u001b[0m \u001b[0;32mas\u001b[0m \u001b[0mtm\u001b[0m\u001b[0;34m:\u001b[0m\u001b[0;34m\u001b[0m\u001b[0;34m\u001b[0m\u001b[0m\n\u001b[0;32m--> 828\u001b[0;31m       \u001b[0mresult\u001b[0m \u001b[0;34m=\u001b[0m \u001b[0mself\u001b[0m\u001b[0;34m.\u001b[0m\u001b[0m_call\u001b[0m\u001b[0;34m(\u001b[0m\u001b[0;34m*\u001b[0m\u001b[0margs\u001b[0m\u001b[0;34m,\u001b[0m \u001b[0;34m**\u001b[0m\u001b[0mkwds\u001b[0m\u001b[0;34m)\u001b[0m\u001b[0;34m\u001b[0m\u001b[0;34m\u001b[0m\u001b[0m\n\u001b[0m\u001b[1;32m    829\u001b[0m       \u001b[0mcompiler\u001b[0m \u001b[0;34m=\u001b[0m \u001b[0;34m\"xla\"\u001b[0m \u001b[0;32mif\u001b[0m \u001b[0mself\u001b[0m\u001b[0;34m.\u001b[0m\u001b[0m_experimental_compile\u001b[0m \u001b[0;32melse\u001b[0m \u001b[0;34m\"nonXla\"\u001b[0m\u001b[0;34m\u001b[0m\u001b[0;34m\u001b[0m\u001b[0m\n\u001b[1;32m    830\u001b[0m       \u001b[0mnew_tracing_count\u001b[0m \u001b[0;34m=\u001b[0m \u001b[0mself\u001b[0m\u001b[0;34m.\u001b[0m\u001b[0mexperimental_get_tracing_count\u001b[0m\u001b[0;34m(\u001b[0m\u001b[0;34m)\u001b[0m\u001b[0;34m\u001b[0m\u001b[0;34m\u001b[0m\u001b[0m\n",
            "\u001b[0;32m/usr/local/lib/python3.7/dist-packages/tensorflow/python/eager/def_function.py\u001b[0m in \u001b[0;36m_call\u001b[0;34m(self, *args, **kwds)\u001b[0m\n\u001b[1;32m    853\u001b[0m       \u001b[0;31m# In this case we have created variables on the first call, so we run the\u001b[0m\u001b[0;34m\u001b[0m\u001b[0;34m\u001b[0m\u001b[0;34m\u001b[0m\u001b[0m\n\u001b[1;32m    854\u001b[0m       \u001b[0;31m# defunned version which is guaranteed to never create variables.\u001b[0m\u001b[0;34m\u001b[0m\u001b[0;34m\u001b[0m\u001b[0;34m\u001b[0m\u001b[0m\n\u001b[0;32m--> 855\u001b[0;31m       \u001b[0;32mreturn\u001b[0m \u001b[0mself\u001b[0m\u001b[0;34m.\u001b[0m\u001b[0m_stateless_fn\u001b[0m\u001b[0;34m(\u001b[0m\u001b[0;34m*\u001b[0m\u001b[0margs\u001b[0m\u001b[0;34m,\u001b[0m \u001b[0;34m**\u001b[0m\u001b[0mkwds\u001b[0m\u001b[0;34m)\u001b[0m  \u001b[0;31m# pylint: disable=not-callable\u001b[0m\u001b[0;34m\u001b[0m\u001b[0;34m\u001b[0m\u001b[0m\n\u001b[0m\u001b[1;32m    856\u001b[0m     \u001b[0;32melif\u001b[0m \u001b[0mself\u001b[0m\u001b[0;34m.\u001b[0m\u001b[0m_stateful_fn\u001b[0m \u001b[0;32mis\u001b[0m \u001b[0;32mnot\u001b[0m \u001b[0;32mNone\u001b[0m\u001b[0;34m:\u001b[0m\u001b[0;34m\u001b[0m\u001b[0;34m\u001b[0m\u001b[0m\n\u001b[1;32m    857\u001b[0m       \u001b[0;31m# Release the lock early so that multiple threads can perform the call\u001b[0m\u001b[0;34m\u001b[0m\u001b[0;34m\u001b[0m\u001b[0;34m\u001b[0m\u001b[0m\n",
            "\u001b[0;32m/usr/local/lib/python3.7/dist-packages/tensorflow/python/eager/function.py\u001b[0m in \u001b[0;36m__call__\u001b[0;34m(self, *args, **kwargs)\u001b[0m\n\u001b[1;32m   2941\u001b[0m        filtered_flat_args) = self._maybe_define_function(args, kwargs)\n\u001b[1;32m   2942\u001b[0m     return graph_function._call_flat(\n\u001b[0;32m-> 2943\u001b[0;31m         filtered_flat_args, captured_inputs=graph_function.captured_inputs)  # pylint: disable=protected-access\n\u001b[0m\u001b[1;32m   2944\u001b[0m \u001b[0;34m\u001b[0m\u001b[0m\n\u001b[1;32m   2945\u001b[0m   \u001b[0;34m@\u001b[0m\u001b[0mproperty\u001b[0m\u001b[0;34m\u001b[0m\u001b[0;34m\u001b[0m\u001b[0m\n",
            "\u001b[0;32m/usr/local/lib/python3.7/dist-packages/tensorflow/python/eager/function.py\u001b[0m in \u001b[0;36m_call_flat\u001b[0;34m(self, args, captured_inputs, cancellation_manager)\u001b[0m\n\u001b[1;32m   1917\u001b[0m       \u001b[0;31m# No tape is watching; skip to running the function.\u001b[0m\u001b[0;34m\u001b[0m\u001b[0;34m\u001b[0m\u001b[0;34m\u001b[0m\u001b[0m\n\u001b[1;32m   1918\u001b[0m       return self._build_call_outputs(self._inference_function.call(\n\u001b[0;32m-> 1919\u001b[0;31m           ctx, args, cancellation_manager=cancellation_manager))\n\u001b[0m\u001b[1;32m   1920\u001b[0m     forward_backward = self._select_forward_and_backward_functions(\n\u001b[1;32m   1921\u001b[0m         \u001b[0margs\u001b[0m\u001b[0;34m,\u001b[0m\u001b[0;34m\u001b[0m\u001b[0;34m\u001b[0m\u001b[0m\n",
            "\u001b[0;32m/usr/local/lib/python3.7/dist-packages/tensorflow/python/eager/function.py\u001b[0m in \u001b[0;36mcall\u001b[0;34m(self, ctx, args, cancellation_manager)\u001b[0m\n\u001b[1;32m    558\u001b[0m               \u001b[0minputs\u001b[0m\u001b[0;34m=\u001b[0m\u001b[0margs\u001b[0m\u001b[0;34m,\u001b[0m\u001b[0;34m\u001b[0m\u001b[0;34m\u001b[0m\u001b[0m\n\u001b[1;32m    559\u001b[0m               \u001b[0mattrs\u001b[0m\u001b[0;34m=\u001b[0m\u001b[0mattrs\u001b[0m\u001b[0;34m,\u001b[0m\u001b[0;34m\u001b[0m\u001b[0;34m\u001b[0m\u001b[0m\n\u001b[0;32m--> 560\u001b[0;31m               ctx=ctx)\n\u001b[0m\u001b[1;32m    561\u001b[0m         \u001b[0;32melse\u001b[0m\u001b[0;34m:\u001b[0m\u001b[0;34m\u001b[0m\u001b[0;34m\u001b[0m\u001b[0m\n\u001b[1;32m    562\u001b[0m           outputs = execute.execute_with_cancellation(\n",
            "\u001b[0;32m/usr/local/lib/python3.7/dist-packages/tensorflow/python/eager/execute.py\u001b[0m in \u001b[0;36mquick_execute\u001b[0;34m(op_name, num_outputs, inputs, attrs, ctx, name)\u001b[0m\n\u001b[1;32m     58\u001b[0m     \u001b[0mctx\u001b[0m\u001b[0;34m.\u001b[0m\u001b[0mensure_initialized\u001b[0m\u001b[0;34m(\u001b[0m\u001b[0;34m)\u001b[0m\u001b[0;34m\u001b[0m\u001b[0;34m\u001b[0m\u001b[0m\n\u001b[1;32m     59\u001b[0m     tensors = pywrap_tfe.TFE_Py_Execute(ctx._handle, device_name, op_name,\n\u001b[0;32m---> 60\u001b[0;31m                                         inputs, attrs, num_outputs)\n\u001b[0m\u001b[1;32m     61\u001b[0m   \u001b[0;32mexcept\u001b[0m \u001b[0mcore\u001b[0m\u001b[0;34m.\u001b[0m\u001b[0m_NotOkStatusException\u001b[0m \u001b[0;32mas\u001b[0m \u001b[0me\u001b[0m\u001b[0;34m:\u001b[0m\u001b[0;34m\u001b[0m\u001b[0;34m\u001b[0m\u001b[0m\n\u001b[1;32m     62\u001b[0m     \u001b[0;32mif\u001b[0m \u001b[0mname\u001b[0m \u001b[0;32mis\u001b[0m \u001b[0;32mnot\u001b[0m \u001b[0;32mNone\u001b[0m\u001b[0;34m:\u001b[0m\u001b[0;34m\u001b[0m\u001b[0;34m\u001b[0m\u001b[0m\n",
            "\u001b[0;31mKeyboardInterrupt\u001b[0m: "
          ]
        }
      ]
    },
    {
      "cell_type": "code",
      "metadata": {
        "id": "RU6g1r4oVCy_"
      },
      "source": [
        ""
      ],
      "execution_count": null,
      "outputs": []
    },
    {
      "cell_type": "code",
      "metadata": {
        "id": "NyVTBaZlVCqr"
      },
      "source": [
        ""
      ],
      "execution_count": null,
      "outputs": []
    },
    {
      "cell_type": "code",
      "metadata": {
        "id": "UgxP1yVaVCg_"
      },
      "source": [
        ""
      ],
      "execution_count": null,
      "outputs": []
    },
    {
      "cell_type": "code",
      "metadata": {
        "id": "wmm4O0eAVCY9"
      },
      "source": [
        ""
      ],
      "execution_count": null,
      "outputs": []
    },
    {
      "cell_type": "code",
      "metadata": {
        "id": "EBvfU6KiVCPT"
      },
      "source": [
        ""
      ],
      "execution_count": null,
      "outputs": []
    },
    {
      "cell_type": "code",
      "metadata": {
        "id": "BlM9ngUCVCF6"
      },
      "source": [
        ""
      ],
      "execution_count": null,
      "outputs": []
    },
    {
      "cell_type": "code",
      "metadata": {
        "id": "XJNLy9ZmVB60"
      },
      "source": [
        ""
      ],
      "execution_count": null,
      "outputs": []
    },
    {
      "cell_type": "code",
      "metadata": {
        "id": "I__EfVeKVBwu"
      },
      "source": [
        ""
      ],
      "execution_count": null,
      "outputs": []
    },
    {
      "cell_type": "code",
      "metadata": {
        "id": "kp2kuwxHVBlU"
      },
      "source": [
        ""
      ],
      "execution_count": null,
      "outputs": []
    },
    {
      "cell_type": "code",
      "metadata": {
        "id": "F2cXyP4kVBW_"
      },
      "source": [
        ""
      ],
      "execution_count": null,
      "outputs": []
    },
    {
      "cell_type": "code",
      "metadata": {
        "id": "TWl-eZt7i9Bu"
      },
      "source": [
        "def display_training_curves(training, validation, title, subplot):\n",
        "    \n",
        "    if subplot%10==1: # set up the subplots on the first call\n",
        "        plt.subplots(figsize=(10,10), facecolor='#F0F0F0')\n",
        "        plt.tight_layout()\n",
        "    ax = plt.subplot(subplot)\n",
        "    ax.set_facecolor('#F8F8F8')\n",
        "    ax.plot(training)\n",
        "    ax.plot(validation)\n",
        "    ax.set_title('EfficientNet '+ title)\n",
        "    ax.set_ylabel(title)\n",
        "    #ax.set_ylim(0.28,1.05)\n",
        "    ax.set_xlabel('epoch')\n",
        "    ax.legend(['train', 'valid.'])"
      ],
      "execution_count": 28,
      "outputs": []
    },
    {
      "cell_type": "code",
      "metadata": {
        "colab": {
          "base_uri": "https://localhost:8080/",
          "height": 386
        },
        "id": "t45Wf7Bmi87w",
        "outputId": "1e774f56-e88d-4948-b73d-2660a8977b37"
      },
      "source": [
        "display_training_curves(\n",
        "    history.history['loss'], \n",
        "    history.history['val_loss'], \n",
        "    'loss', 211)\n"
      ],
      "execution_count": 29,
      "outputs": [
        {
          "output_type": "display_data",
          "data": {
            "image/png": "[encoded data removed]",
            "text/plain": [
              "<Figure size 720x720 with 1 Axes>"
            ]
          },
          "metadata": {
            "tags": []
          }
        }
      ]
    },
    {
      "cell_type": "code",
      "metadata": {
        "colab": {
          "base_uri": "https://localhost:8080/",
          "height": 386
        },
        "id": "qWrqAvI3i8vI",
        "outputId": "d0cf4589-f9ac-4fda-f30b-f76cf69d8296"
      },
      "source": [
        "display_training_curves(\n",
        "    history.history['acc'], \n",
        "    history.history['val_acc'], \n",
        "    'accuracy', 211)"
      ],
      "execution_count": 30,
      "outputs": [
        {
          "output_type": "display_data",
          "data": {
            "image/png": "[encoded data removed]",
            "text/plain": [
              "<Figure size 720x720 with 1 Axes>"
            ]
          },
          "metadata": {
            "tags": []
          }
        }
      ]
    },
    {
      "cell_type": "code",
      "metadata": {
        "id": "DVRoeZFhi8ah"
      },
      "source": [
        ""
      ],
      "execution_count": null,
      "outputs": []
    },
    {
      "cell_type": "code",
      "metadata": {
        "colab": {
          "base_uri": "https://localhost:8080/"
        },
        "id": "z60FRuPMi8U_",
        "outputId": "9e12799b-b6ee-4af5-dd78-ccf4af6ed221"
      },
      "source": [
        "model.save(\"/content/drive/MyDrive/Hackathon/medhack/model\")\n",
        "print(\"Saved model to disk\")"
      ],
      "execution_count": null,
      "outputs": [
        {
          "output_type": "stream",
          "text": [
            "INFO:tensorflow:Assets written to: /content/drive/MyDrive/Hackathon/medhack/model/assets\n",
            "Saved model to disk\n"
          ],
          "name": "stdout"
        }
      ]
    },
    {
      "cell_type": "code",
      "metadata": {
        "id": "ocbrZ7_muzYN"
      },
      "source": [
        "#model.save() or tf.keras.models.save_model()"
      ],
      "execution_count": null,
      "outputs": []
    },
    {
      "cell_type": "code",
      "metadata": {
        "id": "8G0mJr2VuzKb"
      },
      "source": [
        "loaded = tf.keras.models.load_model(\"model\")"
      ],
      "execution_count": null,
      "outputs": []
    },
    {
      "cell_type": "code",
      "metadata": {
        "colab": {
          "base_uri": "https://localhost:8080/"
        },
        "id": "ZF_8nHkzbckw",
        "outputId": "a08b7938-9dfa-4d44-8495-abc80c92dc0d"
      },
      "source": [
        "loaded"
      ],
      "execution_count": null,
      "outputs": [
        {
          "output_type": "execute_result",
          "data": {
            "text/plain": [
              "<tensorflow.python.keras.engine.sequential.Sequential at 0x7f2a720811d0>"
            ]
          },
          "metadata": {
            "tags": []
          },
          "execution_count": 30
        }
      ]
    },
    {
      "cell_type": "code",
      "metadata": {
        "colab": {
          "base_uri": "https://localhost:8080/"
        },
        "id": "1q7GTjPotBJL",
        "outputId": "83f117f1-12de-460c-f600-c5faa36acabc"
      },
      "source": [
        "['Mild', 'Severe', 'Moderate', 'Proliferate_DR', 'No_DR']"
      ],
      "execution_count": null,
      "outputs": [
        {
          "output_type": "execute_result",
          "data": {
            "text/plain": [
              "['Mild', 'Severe', 'Moderate', 'Proliferate_DR', 'No_DR']"
            ]
          },
          "metadata": {
            "tags": []
          },
          "execution_count": 146
        }
      ]
    },
    {
      "cell_type": "code",
      "metadata": {
        "colab": {
          "resources": {
            "http://localhost:8080/nbextensions/google.colab/files.js": {
              "data": "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",
              "headers": [
                [
                  "content-type",
                  "application/javascript"
                ]
              ],
              "ok": true,
              "status": 200,
              "status_text": ""
            }
          },
          "base_uri": "https://localhost:8080/",
          "height": 108
        },
        "id": "ybQQ6AwYuy7P",
        "outputId": "c2a8db7a-d37d-457e-ced8-225ff8caf055"
      },
      "source": [
        "from google.colab import files\n",
        "from keras.preprocessing import image\n",
        "\n",
        "uploaded=files.upload()\n",
        "\n",
        "for fn in uploaded.keys():\n",
        " path='/content/' + fn\n",
        "  # predicting images\n",
        "def predict_class(path)\n",
        "  \n",
        "  img=image.load_img(path, target_size=(224, 224))\n",
        "  \n",
        "  x=image.img_to_array(img)\n",
        "  x=np.expand_dims(x, axis=0)\n",
        "  images = np.vstack([x])\n",
        "  \n",
        "  classes = model.predict(images, batch_size=10)\n",
        "  class = ''\n",
        "  for idx, i in enumerate(classes.squeeze()):\n",
        "    if i == 1.0:\n",
        "      predicted_class += labels[idx]\n",
        "      #print(classes)\n",
        "\n",
        "\n",
        "  return predicted_class\n",
        "  \n",
        "  \n",
        "  "
      ],
      "execution_count": null,
      "outputs": [
        {
          "output_type": "display_data",
          "data": {
            "text/html": [
              "\n",
              "     <input type=\"file\" id=\"files-c0bd826d-4686-48c4-b6da-6996bd51d4ea\" name=\"files[]\" multiple disabled\n",
              "        style=\"border:none\" />\n",
              "     <output id=\"result-c0bd826d-4686-48c4-b6da-6996bd51d4ea\">\n",
              "      Upload widget is only available when the cell has been executed in the\n",
              "      current browser session. Please rerun this cell to enable.\n",
              "      </output>\n",
              "      <script src=\"/nbextensions/google.colab/files.js\"></script> "
            ],
            "text/plain": [
              "<IPython.core.display.HTML object>"
            ]
          },
          "metadata": {
            "tags": []
          }
        },
        {
          "output_type": "stream",
          "text": [
            "Saving dr2.jfif to dr2 (12).jfif\n",
            "2 1.0\n",
            "Moderate\n"
          ],
          "name": "stdout"
        }
      ]
    },
    {
      "cell_type": "code",
      "metadata": {
        "id": "vylA3jJ-V32I"
      },
      "source": [
        ""
      ],
      "execution_count": null,
      "outputs": []
    },
    {
      "cell_type": "code",
      "metadata": {
        "id": "HCX0dnVAV3to"
      },
      "source": [
        ""
      ],
      "execution_count": null,
      "outputs": []
    },
    {
      "cell_type": "code",
      "metadata": {
        "id": "nO6V-t2YunKE"
      },
      "source": [
        "pip install -q pyyaml h5py"
      ],
      "execution_count": null,
      "outputs": []
    },
    {
      "cell_type": "code",
      "metadata": {
        "colab": {
          "base_uri": "https://localhost:8080/"
        },
        "id": "AMvB5x1tVJX6",
        "outputId": "0925f940-44f6-4d67-84ae-7425d02fc7af"
      },
      "source": [
        "import os\n",
        "\n",
        "import tensorflow as tf\n",
        "from tensorflow import keras\n",
        "\n",
        "print(tf.version.VERSION)"
      ],
      "execution_count": null,
      "outputs": [
        {
          "output_type": "stream",
          "text": [
            "2.4.1\n"
          ],
          "name": "stdout"
        }
      ]
    },
    {
      "cell_type": "code",
      "metadata": {
        "id": "BEmKGPrJVzd2"
      },
      "source": [
        "# Save the entire model as a SavedModel.\n",
        "#!mkdir -p saved_model\n",
        "loaded.save('model.h5')"
      ],
      "execution_count": null,
      "outputs": []
    },
    {
      "cell_type": "code",
      "metadata": {
        "id": "UKGoG3dmVzTv"
      },
      "source": [
        ""
      ],
      "execution_count": null,
      "outputs": []
    },
    {
      "cell_type": "code",
      "metadata": {
        "id": "_aomqjADVzLR"
      },
      "source": [
        "new_model = tf.keras.models.load_model('model.h5')"
      ],
      "execution_count": null,
      "outputs": []
    },
    {
      "cell_type": "code",
      "metadata": {
        "colab": {
          "base_uri": "https://localhost:8080/"
        },
        "id": "HV1qE8AzVzDc",
        "outputId": "5031bdd7-005b-4278-ce45-2230354a2d81"
      },
      "source": [
        "new_model.summary()"
      ],
      "execution_count": null,
      "outputs": [
        {
          "output_type": "stream",
          "text": [
            "Model: \"sequential\"\n",
            "_________________________________________________________________\n",
            "Layer (type)                 Output Shape              Param #   \n",
            "=================================================================\n",
            "efficientnet-b0 (Functional) (None, 7, 7, 1280)        4049564   \n",
            "_________________________________________________________________\n",
            "flatten (Flatten)            (None, 62720)             0         \n",
            "_________________________________________________________________\n",
            "dense (Dense)                (None, 512)               32113152  \n",
            "_________________________________________________________________\n",
            "dropout (Dropout)            (None, 512)               0         \n",
            "_________________________________________________________________\n",
            "dense_1 (Dense)              (None, 512)               262656    \n",
            "_________________________________________________________________\n",
            "dropout_1 (Dropout)          (None, 512)               0         \n",
            "_________________________________________________________________\n",
            "dense_2 (Dense)              (None, 512)               262656    \n",
            "_________________________________________________________________\n",
            "dropout_2 (Dropout)          (None, 512)               0         \n",
            "_________________________________________________________________\n",
            "dense_3 (Dense)              (None, 256)               131328    \n",
            "_________________________________________________________________\n",
            "dense_4 (Dense)              (None, 5)                 1285      \n",
            "=================================================================\n",
            "Total params: 36,820,641\n",
            "Trainable params: 36,778,625\n",
            "Non-trainable params: 42,016\n",
            "_________________________________________________________________\n"
          ],
          "name": "stdout"
        }
      ]
    },
    {
      "cell_type": "code",
      "metadata": {
        "id": "HQfbIv_WVy71"
      },
      "source": [
        ""
      ],
      "execution_count": null,
      "outputs": []
    },
    {
      "cell_type": "code",
      "metadata": {
        "id": "IoC0AnLzAqy7"
      },
      "source": [
        ""
      ],
      "execution_count": null,
      "outputs": []
    },
    {
      "cell_type": "code",
      "metadata": {
        "id": "cPvyGWx4Aql-"
      },
      "source": [
        ""
      ],
      "execution_count": null,
      "outputs": []
    },
    {
      "cell_type": "code",
      "metadata": {
        "id": "EWWNdN6bAqcB"
      },
      "source": [
        "def plot_auc(t_y, p_y):\n",
        "    \n",
        "    ## Hint: can use scikit-learn's built in functions here like roc_curve\n",
        "    fpr, tpr, _ = metrics.roc_curve(t_y,  p_y)\n",
        "    auc = metrics.roc_auc_score(t_y, p_y)\n",
        "    plt.plot(fpr,tpr,label=\"data 1, auc=\"+str(auc))\n",
        "    plt.legend(loc=4)\n",
        "    plt.show()\n",
        "    # Todo\n",
        "    \n",
        "    return"
      ],
      "execution_count": null,
      "outputs": []
    },
    {
      "cell_type": "code",
      "metadata": {
        "id": "9JfjEW_qAqQM"
      },
      "source": [
        ""
      ],
      "execution_count": null,
      "outputs": []
    },
    {
      "cell_type": "code",
      "metadata": {
        "id": "4LmyNxf6AqC3"
      },
      "source": [
        "print(metrics.classification_report(valY, p))"
      ],
      "execution_count": null,
      "outputs": []
    },
    {
      "cell_type": "code",
      "metadata": {
        "id": "IAVpWBbqApq4"
      },
      "source": [
        ""
      ],
      "execution_count": null,
      "outputs": []
    },
    {
      "cell_type": "code",
      "metadata": {
        "id": "yg5Qu1eVApbW"
      },
      "source": [
        "import seaborn as sns\n",
        "from sklearn.metrics import confusion_matrix\n",
        "\n",
        "# Get the names of the ten classes\n",
        "class_names = train_gen.class_indices.keys()\n",
        "\n",
        "def plot_heatmap(y_true, y_pred, class_names, ax, title):\n",
        "    cm = confusion_matrix(y_true, y_pred)\n",
        "    sns.heatmap(\n",
        "        cm, \n",
        "        annot=True, \n",
        "        square=True, \n",
        "        xticklabels=class_names, \n",
        "        yticklabels=class_names,\n",
        "        fmt='d', \n",
        "        cmap=plt.cm.Blues,\n",
        "        cbar=False,\n",
        "        ax=ax\n",
        "    )\n",
        "    ax.set_title(title, fontsize=16)\n",
        "    ax.set_xticklabels(ax.get_xticklabels(), rotation=45, ha=\"right\")\n",
        "    ax.set_ylabel('True Label', fontsize=12)\n",
        "    ax.set_xlabel('Predicted Label', fontsize=12)\n",
        "\n",
        "fig, (ax1, ax2, ax3) = plt.subplots(1, 3, figsize=(20, 10))\n",
        "\n",
        "plot_heatmap(valY, p, class_names, ax1, title=\"Custom CNN\")    \n",
        "#plot_heatmap(true_classes, vgg_pred_classes, class_names, ax2, title=\"Transfer Learning (VGG16) No Fine-Tuning\")    \n",
        "#plot_heatmap(true_classes, vgg_pred_classes_ft, class_names, ax3, title=\"Transfer Learning (VGG16) with Fine-Tuning\")    \n",
        "\n",
        "fig.suptitle(\"Confusion Matrix Model Comparison\", fontsize=24)\n",
        "fig.tight_layout()\n",
        "fig.subplots_adjust(top=1.25)\n",
        "plt.show()"
      ],
      "execution_count": null,
      "outputs": []
    },
    {
      "cell_type": "code",
      "metadata": {
        "id": "u5cCRetEApO8"
      },
      "source": [
        ""
      ],
      "execution_count": null,
      "outputs": []
    },
    {
      "cell_type": "code",
      "metadata": {
        "id": "375A7VXRAo_a"
      },
      "source": [
        "!pip install plot_keras_history"
      ],
      "execution_count": null,
      "outputs": []
    },
    {
      "cell_type": "code",
      "metadata": {
        "id": "HHCItymTJnTl"
      },
      "source": [
        ""
      ],
      "execution_count": null,
      "outputs": []
    },
    {
      "cell_type": "code",
      "metadata": {
        "id": "brnb8pXlJnNc"
      },
      "source": [
        "from plot_keras_history import plot_history\n",
        "import matplotlib.pyplot as plt\n",
        "\n",
        "plot_history(vgg_history.history)\n",
        "plt.show()\n",
        "plot_history(vgg_history.history, path=\"standard.png\")\n",
        "plt.close()"
      ],
      "execution_count": null,
      "outputs": []
    },
    {
      "cell_type": "code",
      "metadata": {
        "id": "X3sdzNcQJnG_"
      },
      "source": [
        ""
      ],
      "execution_count": null,
      "outputs": []
    },
    {
      "cell_type": "code",
      "metadata": {
        "id": "Q2in2AdLJnBj"
      },
      "source": [
        ""
      ],
      "execution_count": null,
      "outputs": []
    },
    {
      "cell_type": "code",
      "metadata": {
        "id": "YnSPRqJsJm9M"
      },
      "source": [
        "print(vgg_history.history.keys())\n",
        "# summarize history for accuracy\n",
        "plt.plot(vgg_history.history['accuracy'])\n",
        "plt.plot(vgg_history.history['val_accuracy'])\n",
        "plt.title('model accuracy')\n",
        "plt.ylabel('accuracy')\n",
        "plt.xlabel('epoch')\n",
        "plt.legend(['train', 'test'], loc='upper left')\n",
        "plt.show()\n",
        "# summarize history for loss\n",
        "plt.plot(vgg_history.history['loss'])\n",
        "plt.plot(vgg_history.history['val_loss'])\n",
        "plt.title('model loss')\n",
        "plt.ylabel('loss')\n",
        "plt.xlabel('epoch')\n",
        "plt.legend(['train', 'test'], loc='upper left')\n",
        "plt.show()"
      ],
      "execution_count": null,
      "outputs": []
    },
    {
      "cell_type": "code",
      "metadata": {
        "id": "EGeJmh0cJm5F"
      },
      "source": [
        ""
      ],
      "execution_count": null,
      "outputs": []
    },
    {
      "cell_type": "code",
      "metadata": {
        "id": "hxN69ULYJm0k"
      },
      "source": [
        ""
      ],
      "execution_count": null,
      "outputs": []
    },
    {
      "cell_type": "code",
      "metadata": {
        "id": "f9zQfM_1Jmwt"
      },
      "source": [
        ""
      ],
      "execution_count": null,
      "outputs": []
    },
    {
      "cell_type": "code",
      "metadata": {
        "id": "5tLEoNaOJmtB"
      },
      "source": [
        ""
      ],
      "execution_count": null,
      "outputs": []
    },
    {
      "cell_type": "code",
      "metadata": {
        "id": "fpNR5J1rJmpB"
      },
      "source": [
        "YOUR_THRESHOLD = 0.5"
      ],
      "execution_count": null,
      "outputs": []
    },
    {
      "cell_type": "code",
      "metadata": {
        "id": "1Xb_U7fOJmk0"
      },
      "source": [
        "fig, m_axs = plt.subplots(10, 10, figsize = (16, 16))\n",
        "i = 0\n",
        "for (c_x, c_y, c_ax) in zip(valX[0:100], valY[0:100], m_axs.flatten()):\n",
        "    c_ax.imshow(c_x[:,:,0], cmap = 'bone')\n",
        "    if c_y == 1: \n",
        "        if p[i] > YOUR_THRESHOLD:\n",
        "            c_ax.set_title('1, 1')\n",
        "        else:\n",
        "            c_ax.set_title('1, 0')\n",
        "    else:\n",
        "        if p[i] > YOUR_THRESHOLD: \n",
        "            c_ax.set_title('0, 1')\n",
        "        else:\n",
        "            c_ax.set_title('0, 0')\n",
        "    c_ax.axis('off')\n",
        "    i=i+1"
      ],
      "execution_count": null,
      "outputs": []
    },
    {
      "cell_type": "code",
      "metadata": {
        "id": "Y_IWZb7pJmhE"
      },
      "source": [
        ""
      ],
      "execution_count": null,
      "outputs": []
    },
    {
      "cell_type": "code",
      "metadata": {
        "id": "7Cvq7b6dJmdh"
      },
      "source": [
        ""
      ],
      "execution_count": null,
      "outputs": []
    },
    {
      "cell_type": "code",
      "metadata": {
        "id": "1BAMTGngJmXy"
      },
      "source": [
        ""
      ],
      "execution_count": null,
      "outputs": []
    },
    {
      "cell_type": "code",
      "metadata": {
        "id": "yT82DA0yJmSu"
      },
      "source": [
        ""
      ],
      "execution_count": null,
      "outputs": []
    },
    {
      "cell_type": "code",
      "metadata": {
        "id": "NCw9sCG4JmNa"
      },
      "source": [
        ""
      ],
      "execution_count": null,
      "outputs": []
    },
    {
      "cell_type": "code",
      "metadata": {
        "id": "JVrxoIMoJmG2"
      },
      "source": [
        ""
      ],
      "execution_count": null,
      "outputs": []
    },
    {
      "cell_type": "code",
      "metadata": {
        "id": "UYCEs5AwJl70"
      },
      "source": [
        ""
      ],
      "execution_count": null,
      "outputs": []
    }
  ]
}